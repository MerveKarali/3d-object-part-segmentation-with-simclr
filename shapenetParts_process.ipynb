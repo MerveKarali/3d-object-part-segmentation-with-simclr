{
 "cells": [
  {
   "cell_type": "markdown",
   "metadata": {},
   "source": [
    "# Dataset Preparation\n",
    "\n",
    "- In this notebook we will download the following datasets.\n",
    "    - Princeton Segmentation Benchmark\n",
    "    - ShapeNet Parts\n",
    "    - COSEG\n",
    "    - Label Meshes\n",
    "- Create the train/val/test splits.\n",
    "- Visualize samples from the datasets."
   ]
  },
  {
   "cell_type": "code",
   "execution_count": 21,
   "metadata": {},
   "outputs": [
    {
     "name": "stdout",
     "output_type": "stream",
     "text": [
      "The autoreload extension is already loaded. To reload it, use:\n",
      "  %reload_ext autoreload\n"
     ]
    }
   ],
   "source": [
    "%load_ext autoreload\n",
    "%autoreload 2\n",
    "from pathlib import Path\n",
    "import numpy as np\n",
    "import trimesh\n",
    "import os\n",
    "import os.path\n",
    "\n",
    "from util.visualization_utils import * "
   ]
  },
  {
   "cell_type": "markdown",
   "metadata": {},
   "source": [
    "1. ShapeNet Parts"
   ]
  },
  {
   "cell_type": "code",
   "execution_count": 94,
   "metadata": {},
   "outputs": [
    {
     "name": "stdout",
     "output_type": "stream",
     "text": [
      "Length of train set: 1958\n",
      "point_set: torch.Size([2500, 3])\n",
      "seg: torch.Size([2500])\n",
      "torch.Size([2500, 3])\n",
      "Class = tensor([1, 1, 1,  ..., 4, 1, 1])\n",
      "point_set: torch.Size([2500, 3])\n",
      "seg: torch.Size([2500])\n"
     ]
    },
    {
     "data": {
      "application/vnd.jupyter.widget-view+json": {
       "model_id": "4c4c87c601f546419bb12839ee0b2bbb",
       "version_major": 2,
       "version_minor": 0
      },
      "text/plain": [
       "Output()"
      ]
     },
     "metadata": {},
     "output_type": "display_data"
    }
   ],
   "source": [
    "from datasets.shapenet_parts.shapenet_parts import ShapeNetParts\n",
    "from util.visualization_utils import visualize_pointcloud\n",
    "from matplotlib import cm, colors\n",
    "import numpy as np\n",
    "from torchvision import transforms, datasets\n",
    "from augmentations.augmentations import Rescale, Flip, GaussianWhiteNoise, CutOut\n",
    "\n",
    "transforms = transforms.Compose([\n",
    "    GaussianWhiteNoise()\n",
    "            ])\n",
    "# Create a dataset with train split\n",
    "train_dataset = ShapeNetParts('train', transform=transforms)\n",
    "val_dataset = ShapeNetParts('val',  transform=transforms)\n",
    "test_dataset = ShapeNetParts('test',  transform=transforms)\n",
    "\n",
    "\n",
    "# Test lengths\n",
    "print(f'Length of train set: {len(train_dataset)}') \n",
    "\n",
    "# Get sample at index 0\n",
    "train_sample = train_dataset[0]\n",
    "print(train_sample[0].shape)  # Expected output (1, 32, 32, 32) (the leading 1 is important for later)\n",
    "print(f\"Class = {train_sample[1]}\")  # Expected output: Scalar value 0\n",
    "\n",
    "shape_points,seg = train_dataset.get_point_cloud_with_labels(index=0)\n",
    "point_labels = (seg - min(seg)) / (max(seg) - min(seg))\n",
    "point_colors = cm.get_cmap('hsv')(point_labels)[:, :3]\n",
    "point_colors = np.sum((point_colors * 255).astype(int) * [255*255, 255, 1], axis=1)\n",
    "visualize_pointcloud(shape_points.numpy(), colors=point_colors, point_size=0.025, flip_axes=True)\n"
   ]
  },
  {
   "cell_type": "code",
   "execution_count": null,
   "metadata": {},
   "outputs": [],
   "source": []
  },
  {
   "cell_type": "code",
   "execution_count": null,
   "metadata": {},
   "outputs": [],
   "source": []
  }
 ],
 "metadata": {
  "kernelspec": {
   "display_name": "Python 3",
   "language": "python",
   "name": "python3"
  },
  "language_info": {
   "codemirror_mode": {
    "name": "ipython",
    "version": 3
   },
   "file_extension": ".py",
   "mimetype": "text/x-python",
   "name": "python",
   "nbconvert_exporter": "python",
   "pygments_lexer": "ipython3",
   "version": "3.7.10"
  }
 },
 "nbformat": 4,
 "nbformat_minor": 2
}
