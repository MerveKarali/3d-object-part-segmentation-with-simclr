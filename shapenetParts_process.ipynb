{
 "cells": [
  {
   "cell_type": "markdown",
   "metadata": {},
   "source": [
    "# Dataset Preparation\n",
    "\n",
    "- In this notebook we will download the following datasets.\n",
    "    - Princeton Segmentation Benchmark\n",
    "    - ShapeNet Parts\n",
    "    - COSEG\n",
    "    - Label Meshes\n",
    "- Create the train/val/test splits.\n",
    "- Visualize samples from the datasets."
   ]
  },
  {
   "cell_type": "code",
   "execution_count": 1,
   "metadata": {},
   "outputs": [],
   "source": [
    "%load_ext autoreload\n",
    "%autoreload 2\n",
    "from pathlib import Path\n",
    "import numpy as np\n",
    "import trimesh\n",
    "import os\n",
    "import os.path\n",
    "\n",
    "from util.visualization_utils import * "
   ]
  },
  {
   "cell_type": "markdown",
   "metadata": {},
   "source": [
    "1. ShapeNet Parts"
   ]
  },
  {
   "cell_type": "code",
   "execution_count": 2,
   "metadata": {},
   "outputs": [],
   "source": [
    "class SimCLRTrainDataTransform(object):\n",
    "    \"\"\"\n",
    "    Transforms for SimCLR\n",
    "    \"\"\"\n",
    "\n",
    "    def __init__(self, data_transforms) -> None:\n",
    "        self.data_transforms = transforms.Compose(data_transforms)\n",
    "        print(self.data_transforms)\n",
    "\n",
    "    def __call__(self, sample):\n",
    "        transform = self.data_transforms\n",
    "        \n",
    "        xi = transform(sample)\n",
    "        xj = transform(sample)\n",
    "\n",
    "        return xi, xj\n"
   ]
  },
  {
   "cell_type": "code",
   "execution_count": 3,
   "metadata": {
    "scrolled": false
   },
   "outputs": [
    {
     "name": "stdout",
     "output_type": "stream",
     "text": [
      "<class 'augmentations.augmentations.GaussianWhiteNoise'>\n",
      "Compose(\n",
      "    <augmentations.augmentations.GaussianWhiteNoise object at 0x7fbf1544bbb0>\n",
      ")\n",
      "Length of train set: 1958\n",
      "torch.Size([2500])\n",
      "Class = tensor([-0.0621,  0.0856, -0.0410,  ..., -0.1387,  0.0478, -0.0971])\n",
      "torch.float32\n"
     ]
    },
    {
     "name": "stderr",
     "output_type": "stream",
     "text": [
      "/home/umur/anaconda3/envs/dl/lib/python3.8/site-packages/traittypes/traittypes.py:97: UserWarning: Given trait value dtype \"int64\" does not match required type \"uint32\". A coerced copy has been created.\n",
      "  warnings.warn(\n"
     ]
    },
    {
     "data": {
      "application/vnd.jupyter.widget-view+json": {
       "model_id": "",
       "version_major": 2,
       "version_minor": 0
      },
      "text/plain": [
       "Output()"
      ]
     },
     "metadata": {},
     "output_type": "display_data"
    },
    {
     "name": "stdout",
     "output_type": "stream",
     "text": [
      "<class 'augmentations.augmentations.Rescale'>\n",
      "Compose(\n",
      "    <augmentations.augmentations.Rescale object at 0x7fbf14831eb0>\n",
      ")\n",
      "Length of train set: 1958\n",
      "torch.Size([2500])\n",
      "Class = tensor([ 0.0219, -0.0502,  0.0446,  ...,  0.0501,  0.0039,  0.1792])\n",
      "torch.float32\n"
     ]
    },
    {
     "data": {
      "application/vnd.jupyter.widget-view+json": {
       "model_id": "",
       "version_major": 2,
       "version_minor": 0
      },
      "text/plain": [
       "Output()"
      ]
     },
     "metadata": {},
     "output_type": "display_data"
    },
    {
     "name": "stdout",
     "output_type": "stream",
     "text": [
      "<class 'augmentations.augmentations.Flip'>\n",
      "Compose(\n",
      "    <augmentations.augmentations.Flip object at 0x7fbf1544bb80>\n",
      ")\n",
      "Length of train set: 1958\n",
      "torch.Size([2500])\n",
      "Class = tensor([-0.1033, -0.0138, -0.1133,  ...,  0.0074, -0.1150, -0.0980])\n",
      "torch.float32\n"
     ]
    },
    {
     "data": {
      "application/vnd.jupyter.widget-view+json": {
       "model_id": "",
       "version_major": 2,
       "version_minor": 0
      },
      "text/plain": [
       "Output()"
      ]
     },
     "metadata": {},
     "output_type": "display_data"
    },
    {
     "name": "stdout",
     "output_type": "stream",
     "text": [
      "<class 'augmentations.augmentations.CutOut'>\n",
      "Compose(\n",
      "    <augmentations.augmentations.CutOut object at 0x7fbf14659f70>\n",
      ")\n",
      "Length of train set: 1958\n",
      "torch.Size([2228])\n",
      "Class = tensor([-0.0208,  0.2425,  0.0372,  ..., -0.0914,  0.2446,  0.0025])\n",
      "torch.float32\n"
     ]
    },
    {
     "data": {
      "application/vnd.jupyter.widget-view+json": {
       "model_id": "",
       "version_major": 2,
       "version_minor": 0
      },
      "text/plain": [
       "Output()"
      ]
     },
     "metadata": {},
     "output_type": "display_data"
    },
    {
     "name": "stdout",
     "output_type": "stream",
     "text": [
      "<class 'augmentations.augmentations.Rotation'>\n",
      "Compose(\n",
      "    <augmentations.augmentations.Rotation object at 0x7fbf1475bf70>\n",
      ")\n",
      "Length of train set: 1958\n",
      "torch.Size([2500])\n",
      "Class = tensor([ 0.2779,  0.0513,  0.2622,  ..., -0.0838, -0.0562, -0.0598])\n",
      "torch.float32\n"
     ]
    },
    {
     "data": {
      "application/vnd.jupyter.widget-view+json": {
       "model_id": "",
       "version_major": 2,
       "version_minor": 0
      },
      "text/plain": [
       "Output()"
      ]
     },
     "metadata": {},
     "output_type": "display_data"
    }
   ],
   "source": [
    "from datasets.shapenet_parts.shapenet_parts import ShapeNetParts\n",
    "from util.visualization_utils import visualize_pointcloud\n",
    "from matplotlib import cm, colors\n",
    "import numpy as np\n",
    "from torchvision import transforms, datasets\n",
    "from augmentations.augmentations import Rescale, Flip, GaussianWhiteNoise, CutOut, Rotation\n",
    "\n",
    "\n",
    "transformations = [\n",
    "#     None,\n",
    "    GaussianWhiteNoise,\n",
    "    Rescale,\n",
    "    Flip,\n",
    "    CutOut,\n",
    "    Rotation\n",
    "]\n",
    "\n",
    "for transform in transformations:\n",
    "    print(str(transform))\n",
    "    if transform:  \n",
    "        tranformation_compositions = SimCLRTrainDataTransform([transform(p=1)])\n",
    "    else:\n",
    "        tranformation_compositions = None\n",
    "        \n",
    "\n",
    "    # Create a dataset with train split\n",
    "    train_dataset = ShapeNetParts('train', transforms=tranformation_compositions)\n",
    "    val_dataset = ShapeNetParts('val',  transforms=tranformation_compositions)\n",
    "    test_dataset = ShapeNetParts('test',  transforms=tranformation_compositions)\n",
    "\n",
    "\n",
    "    # Test lengths\n",
    "    print(f'Length of train set: {len(train_dataset)}') \n",
    "\n",
    "    # Get sample at index 0\n",
    "    (train_sample, _), y = train_dataset[0]\n",
    "\n",
    "    print(train_sample[0].shape)  # Expected output (1, 32, 32, 32) (the leading 1 is important for later)\n",
    "    print(f\"Class = {train_sample[1]}\")  # Expected output: Scalar value 0\n",
    "    print(train_sample[0].dtype)\n",
    "    shape_points,seg = train_sample.T, y\n",
    "    point_labels = (seg - min(seg)) / (max(seg) - min(seg))\n",
    "    point_colors = cm.get_cmap('hsv')(point_labels)[:, :3]\n",
    "    point_colors = np.sum((point_colors * 255).astype(int) * [255*255, 255, 1], axis=1)\n",
    "    visualize_pointcloud(shape_points.numpy(), colors=point_colors, point_size=0.025, flip_axes=True)\n"
   ]
  },
  {
   "cell_type": "code",
   "execution_count": 5,
   "metadata": {
    "scrolled": false
   },
   "outputs": [
    {
     "name": "stdout",
     "output_type": "stream",
     "text": [
      "<class 'augmentations.augmentations.GaussianWhiteNoise'>\n",
      "Compose(\n",
      "    <augmentations.augmentations.GaussianWhiteNoise object at 0x7fbf148533a0>\n",
      ")\n",
      "Length of train set: 1958\n",
      "torch.Size([512])\n"
     ]
    },
    {
     "data": {
      "application/vnd.jupyter.widget-view+json": {
       "model_id": "3dae44b86d1d4bb4974bdc12f57de87a",
       "version_major": 2,
       "version_minor": 0
      },
      "text/plain": [
       "Output()"
      ]
     },
     "metadata": {},
     "output_type": "display_data"
    },
    {
     "name": "stdout",
     "output_type": "stream",
     "text": [
      "<class 'augmentations.augmentations.Rescale'>\n",
      "Compose(\n",
      "    <augmentations.augmentations.Rescale object at 0x7fbf14624130>\n",
      ")\n",
      "Length of train set: 1958\n",
      "torch.Size([512])\n"
     ]
    },
    {
     "data": {
      "application/vnd.jupyter.widget-view+json": {
       "model_id": "3116457b3c934d9c978f9c46dc57cda6",
       "version_major": 2,
       "version_minor": 0
      },
      "text/plain": [
       "Output()"
      ]
     },
     "metadata": {},
     "output_type": "display_data"
    },
    {
     "name": "stdout",
     "output_type": "stream",
     "text": [
      "<class 'augmentations.augmentations.Flip'>\n",
      "Compose(\n",
      "    <augmentations.augmentations.Flip object at 0x7fbf14667e80>\n",
      ")\n",
      "Length of train set: 1958\n",
      "torch.Size([512])\n"
     ]
    },
    {
     "data": {
      "application/vnd.jupyter.widget-view+json": {
       "model_id": "0b959ce8d7e442379aeee7128cacb017",
       "version_major": 2,
       "version_minor": 0
      },
      "text/plain": [
       "Output()"
      ]
     },
     "metadata": {},
     "output_type": "display_data"
    },
    {
     "name": "stdout",
     "output_type": "stream",
     "text": [
      "<class 'augmentations.augmentations.CutOut'>\n",
      "Compose(\n",
      "    <augmentations.augmentations.CutOut object at 0x7fbf1473fb50>\n",
      ")\n",
      "Length of train set: 1958\n",
      "torch.Size([352])\n"
     ]
    },
    {
     "data": {
      "application/vnd.jupyter.widget-view+json": {
       "model_id": "98a51271509f4c12a8efefb2d7a8857a",
       "version_major": 2,
       "version_minor": 0
      },
      "text/plain": [
       "Output()"
      ]
     },
     "metadata": {},
     "output_type": "display_data"
    },
    {
     "name": "stdout",
     "output_type": "stream",
     "text": [
      "<class 'augmentations.augmentations.Rotation'>\n",
      "Compose(\n",
      "    <augmentations.augmentations.Rotation object at 0x7fbf1441fd90>\n",
      ")\n",
      "Length of train set: 1958\n",
      "torch.Size([512])\n"
     ]
    },
    {
     "data": {
      "application/vnd.jupyter.widget-view+json": {
       "model_id": "91a49d153fcc4c90ad6de372a1bca5be",
       "version_major": 2,
       "version_minor": 0
      },
      "text/plain": [
       "Output()"
      ]
     },
     "metadata": {},
     "output_type": "display_data"
    }
   ],
   "source": [
    "from datasets.shapenet_parts.shapenet_parts import ShapeNetParts\n",
    "from util.visualization_utils import visualize_pointcloud\n",
    "from matplotlib import cm, colors\n",
    "import numpy as np\n",
    "from torchvision import transforms, datasets\n",
    "from augmentations.augmentations import Rescale, Flip, GaussianWhiteNoise, CutOut, Rotation\n",
    "\n",
    "\n",
    "transformations = [\n",
    "#     None,\n",
    "    GaussianWhiteNoise,\n",
    "    Rescale,\n",
    "    Flip,\n",
    "    CutOut,\n",
    "    Rotation\n",
    "]\n",
    "\n",
    "for transform in transformations:\n",
    "    print(str(transform))\n",
    "    if transform:  \n",
    "        tranformation_compositions = SimCLRTrainDataTransform([transform(p=1)])\n",
    "    else:\n",
    "        tranformation_compositions = None\n",
    "        \n",
    "\n",
    "    # Create a dataset with train split\n",
    "    train_dataset = ShapeNetParts('train', transforms=tranformation_compositions)\n",
    "    train_dataset.npoints = 8**3\n",
    "\n",
    "    # Test lengths\n",
    "    print(f'Length of train set: {len(train_dataset)}') \n",
    "\n",
    "    # Get sample at index 0\n",
    "    (train_sample, _), y = train_dataset[0]\n",
    "\n",
    "    print(train_sample[0].shape)  # Expected output (1, 32, 32, 32) (the leading 1 is important for later)\n",
    "#     print(f\"Class = {train_sample[1]}\")  # Expected output: Scalar value 0\n",
    "\n",
    "    shape_points,seg = train_sample.T, y\n",
    "    point_labels = (seg - min(seg)) / (max(seg) - min(seg))\n",
    "    point_colors = cm.get_cmap('hsv')(point_labels)[:, :3]\n",
    "    point_colors = np.sum((point_colors * 255).astype(int) * [255*255, 255, 1], axis=1)\n",
    "    visualize_pointcloud(shape_points.numpy(), colors=point_colors, point_size=0.025, flip_axes=True)\n"
   ]
  }
 ],
 "metadata": {
  "kernelspec": {
   "display_name": "Python dl",
   "language": "python",
   "name": "dl"
  },
  "language_info": {
   "codemirror_mode": {
    "name": "ipython",
    "version": 3
   },
   "file_extension": ".py",
   "mimetype": "text/x-python",
   "name": "python",
   "nbconvert_exporter": "python",
   "pygments_lexer": "ipython3",
   "version": "3.8.5"
  }
 },
 "nbformat": 4,
 "nbformat_minor": 2
}
