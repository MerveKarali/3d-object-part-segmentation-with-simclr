{
 "cells": [
  {
   "cell_type": "markdown",
   "metadata": {},
   "source": [
    "# Dataset Preparation\n",
    "\n",
    "- In this notebook we will download the following datasets.\n",
    "    - Princeton Segmentation Benchmark\n",
    "    - ShapeNet Parts\n",
    "    - COSEG\n",
    "    - Label Meshes\n",
    "- Create the train/val/test splits.\n",
    "- Visualize samples from the datasets."
   ]
  },
  {
   "cell_type": "code",
   "execution_count": 2,
   "metadata": {},
   "outputs": [],
   "source": [
    "import os\n",
    "os.chdir('..')"
   ]
  },
  {
   "cell_type": "code",
   "execution_count": 3,
   "metadata": {},
   "outputs": [
    {
     "name": "stdout",
     "output_type": "stream",
     "text": [
      "The autoreload extension is already loaded. To reload it, use:\n",
      "  %reload_ext autoreload\n"
     ]
    },
    {
     "name": "stderr",
     "output_type": "stream",
     "text": [
      "/home/umur/anaconda3/envs/dl/lib/python3.8/site-packages/pl_bolts/utils/warnings.py:30: UserWarning: You want to use `gym` which is not installed yet, install it with `pip install gym`.\n",
      "  stdout_func(\n"
     ]
    }
   ],
   "source": [
    "%load_ext autoreload\n",
    "%autoreload 2\n",
    "from pathlib import Path\n",
    "import numpy as np\n",
    "import trimesh\n",
    "import os\n",
    "import os.path\n",
    "\n",
    "from util.visualization_utils import * \n",
    "from transforms import SimCLRTrainDataTransform"
   ]
  },
  {
   "cell_type": "markdown",
   "metadata": {},
   "source": [
    "1. ShapeNet Parts"
   ]
  },
  {
   "cell_type": "markdown",
   "metadata": {},
   "source": [
    "## 2500 Data Points"
   ]
  },
  {
   "cell_type": "code",
   "execution_count": 34,
   "metadata": {
    "scrolled": false
   },
   "outputs": [
    {
     "name": "stdout",
     "output_type": "stream",
     "text": [
      "<class 'augmentations.augmentations.GaussianNoise'>\n",
      "Length of train set: 12137\n",
      "torch.Size([3, 2500])\n",
      "Class = tensor([ 0.0570,  0.0192,  0.2792,  ...,  0.0501, -0.0789,  0.2620])\n",
      "torch.float32\n"
     ]
    },
    {
     "name": "stderr",
     "output_type": "stream",
     "text": [
      "/home/umur/anaconda3/envs/dl/lib/python3.8/site-packages/traittypes/traittypes.py:97: UserWarning: Given trait value dtype \"int64\" does not match required type \"uint32\". A coerced copy has been created.\n",
      "  warnings.warn(\n"
     ]
    },
    {
     "data": {
      "application/vnd.jupyter.widget-view+json": {
       "model_id": "2023db9f40984573bce3fb004b304c9b",
       "version_major": 2,
       "version_minor": 0
      },
      "text/plain": [
       "Output()"
      ]
     },
     "metadata": {},
     "output_type": "display_data"
    },
    {
     "name": "stdout",
     "output_type": "stream",
     "text": [
      "<class 'augmentations.augmentations.Rescale'>\n",
      "Length of train set: 12137\n",
      "torch.Size([3, 2500])\n",
      "Class = tensor([-0.1041, -0.0254, -0.0731,  ..., -0.0670, -0.0801,  0.0812])\n",
      "torch.float32\n"
     ]
    },
    {
     "data": {
      "application/vnd.jupyter.widget-view+json": {
       "model_id": "90de8157954e464b963dc84742bcee80",
       "version_major": 2,
       "version_minor": 0
      },
      "text/plain": [
       "Output()"
      ]
     },
     "metadata": {},
     "output_type": "display_data"
    },
    {
     "name": "stdout",
     "output_type": "stream",
     "text": [
      "<class 'augmentations.augmentations.Flip'>\n",
      "Length of train set: 12137\n",
      "torch.Size([3, 2500])\n",
      "Class = tensor([-0.0314,  0.0932, -0.0097,  ..., -0.0972,  0.0401,  0.0727])\n",
      "torch.float32\n"
     ]
    },
    {
     "data": {
      "application/vnd.jupyter.widget-view+json": {
       "model_id": "fe4c850ba2b6415ba20276ff2d0f9be4",
       "version_major": 2,
       "version_minor": 0
      },
      "text/plain": [
       "Output()"
      ]
     },
     "metadata": {},
     "output_type": "display_data"
    },
    {
     "name": "stdout",
     "output_type": "stream",
     "text": [
      "<class 'augmentations.augmentations.Rotation'>\n",
      "Length of train set: 12137\n",
      "torch.Size([3, 2500])\n",
      "Class = tensor([-0.0861,  0.1106, -0.0101,  ...,  0.1756,  0.1142, -0.1155])\n",
      "torch.float32\n"
     ]
    },
    {
     "data": {
      "application/vnd.jupyter.widget-view+json": {
       "model_id": "4bc876c869544620a82267f6440052d8",
       "version_major": 2,
       "version_minor": 0
      },
      "text/plain": [
       "Output()"
      ]
     },
     "metadata": {},
     "output_type": "display_data"
    }
   ],
   "source": [
    "from datasets.shapenet_parts.shapenet_parts import ShapeNetParts\n",
    "from util.visualization_utils import visualize_pointcloud\n",
    "from matplotlib import cm, colors\n",
    "import numpy as np\n",
    "from torchvision import transforms, datasets\n",
    "from augmentations.augmentations import Rescale, Flip, GaussianNoise, Rotation\n",
    "\n",
    "\n",
    "transformations = [\n",
    "#     None,\n",
    "    GaussianNoise,\n",
    "    Rescale,\n",
    "    Flip,\n",
    "    Rotation\n",
    "]\n",
    "\n",
    "for transform in transformations:\n",
    "    print(str(transform))\n",
    "    if transform:  \n",
    "        tranformation_compositions = SimCLRTrainDataTransform([transform(p=1)])\n",
    "    else:\n",
    "        tranformation_compositions = None\n",
    "        \n",
    "\n",
    "    # Create a dataset with train split\n",
    "    train_dataset = ShapeNetParts('train', transforms=tranformation_compositions)\n",
    "    val_dataset = ShapeNetParts('val',  transforms=tranformation_compositions)\n",
    "    test_dataset = ShapeNetParts('test',  transforms=tranformation_compositions)\n",
    "\n",
    "\n",
    "    # Test lengths\n",
    "    print(f'Length of train set: {len(train_dataset)}') \n",
    "\n",
    "    # Get sample at index 0\n",
    "    (train_sample,_,_) , (y,_,_), class_id = train_dataset[0]\n",
    "\n",
    "    print(train_sample.shape)  # Expected output (1, 32, 32, 32) (the leading 1 is important for later)\n",
    "    print(f\"Class = {train_sample[1]}\")  # Expected output: Scalar value 0\n",
    "    print(train_sample.dtype)\n",
    "    \n",
    "    shape_points,seg = train_sample.T, y\n",
    "    point_labels = (seg - min(seg)) / (max(seg) - min(seg))\n",
    "    point_colors = cm.get_cmap('hsv')(point_labels)[:, :3]\n",
    "    point_colors = np.sum((point_colors * 255).astype(int) * [255*255, 255, 1], axis=1)\n",
    "    visualize_pointcloud(shape_points.numpy(), colors=point_colors, point_size=0.025, flip_axes=True)\n"
   ]
  },
  {
   "cell_type": "markdown",
   "metadata": {},
   "source": [
    "## 512 Data Points"
   ]
  },
  {
   "cell_type": "code",
   "execution_count": 36,
   "metadata": {
    "scrolled": false
   },
   "outputs": [
    {
     "name": "stdout",
     "output_type": "stream",
     "text": [
      "None\n",
      "Length of train set: 12137\n",
      "asd\n",
      "sample shape: torch.Size([2500])\n",
      "train_sample1 shape: torch.Size([3, 2500])\n",
      "y1 shape: torch.Size([2500])\n"
     ]
    },
    {
     "data": {
      "application/vnd.jupyter.widget-view+json": {
       "model_id": "beb7783402784d248ad409900ef3dfcc",
       "version_major": 2,
       "version_minor": 0
      },
      "text/plain": [
       "Output()"
      ]
     },
     "metadata": {},
     "output_type": "display_data"
    },
    {
     "name": "stdout",
     "output_type": "stream",
     "text": [
      "<class 'augmentations.augmentations.RandomCuboid'>\n",
      "Length of train set: 12137\n",
      "sample shape: torch.Size([2500])\n",
      "train_sample1 shape: torch.Size([3, 2500])\n",
      "y1 shape: torch.Size([2500])\n"
     ]
    },
    {
     "data": {
      "application/vnd.jupyter.widget-view+json": {
       "model_id": "c4bb3076546d40d29994013732afeae2",
       "version_major": 2,
       "version_minor": 0
      },
      "text/plain": [
       "Output()"
      ]
     },
     "metadata": {},
     "output_type": "display_data"
    }
   ],
   "source": [
    "from datasets.shapenet_parts.shapenet_parts import ShapeNetParts\n",
    "from util.visualization_utils import visualize_pointcloud\n",
    "from matplotlib import cm, colors\n",
    "import numpy as np\n",
    "from torchvision import transforms, datasets\n",
    "from augmentations.augmentations import Rescale, Flip, GaussianNoise, Rotation,RandomCuboid, RandomDrop\n",
    "\n",
    "\n",
    "transformations = [\n",
    "    None,\n",
    "  #   GaussianWhiteNoise,\n",
    "  #   Rescale,\n",
    " #     Flip,\n",
    " #     Rotation,\n",
    " RandomCuboid,\n",
    "#RandomDrop,\n",
    "#     CutOut\n",
    "]\n",
    "\n",
    "for transform in transformations:\n",
    "    print(str(transform))\n",
    "    if transform:  \n",
    "        tranformation_compositions = SimCLRTrainDataTransform([transform(p=1)])\n",
    "    else:\n",
    "        tranformation_compositions = None\n",
    "    \n",
    "    # Create a dataset with train split\n",
    "    train_dataset = ShapeNetParts('train', transforms=tranformation_compositions)\n",
    "    train_dataset.npoints = 2500\n",
    "\n",
    "    # Test lengths\n",
    "    print(f'Length of train set: {len(train_dataset)}') \n",
    "\n",
    "    # Get sample at index 0\n",
    "    if train_dataset.transforms:\n",
    "        (train_sample,_,_) , (y,_,_), class_id = train_dataset[6000]\n",
    "    else:\n",
    "        print('asd')\n",
    "        train_sample1, y1,_ = train_dataset[6000]\n",
    "        train_sample2 = None\n",
    "\n",
    "    print(f'sample shape: {train_sample1[0].shape}')  # Expected output (1, 32, 32, 32) (the leading 1 is important for later)\n",
    "#     print(f\"Class = {train_sample[1]}\")  # Expected output: Scalar value 0\n",
    "    print(f'train_sample1 shape: {train_sample1.shape}')  # Expected output (1, 32, 32, 32) (the leading 1 is important for later)\n",
    "    print(f'y1 shape: {y1.shape}')  # Expected output (1, 32, 32, 32) (the leading 1 is important for later)\n",
    "\n",
    "    shape_points,seg = train_sample1.T, y1\n",
    "    point_labels = (seg - min(seg)) / (max(seg) - min(seg))\n",
    "    point_colors = cm.get_cmap('hsv')(point_labels)[:, :3]\n",
    "    point_colors = np.sum((point_colors * 255).astype(int) * [255*255, 255, 1], axis=1)\n",
    "    visualize_pointcloud(shape_points.numpy(), colors=point_colors, point_size=0.025, flip_axes=True)\n",
    "\n",
    "    if train_sample2 is not None:\n",
    "        print(f'train_sample2 shape: {train_sample2.shape}')  # Expected output (1, 32, 32, 32) (the leading 1 is important for later)\n",
    "        print(f'y2 shape: {y2.shape}') \n",
    "        shape_points,seg = train_sample2.T, y2\n",
    "        point_labels = (seg - min(seg)) / (max(seg) - min(seg))\n",
    "        point_colors = cm.get_cmap('hsv')(point_labels)[:, :3]\n",
    "        point_colors = np.sum((point_colors * 255).astype(int) * [255*255, 255, 1], axis=1)\n",
    "        visualize_pointcloud(shape_points.numpy(), colors=point_colors, point_size=0.025, flip_axes=True)\n"
   ]
  },
  {
   "cell_type": "code",
   "execution_count": 68,
   "metadata": {},
   "outputs": [
    {
     "data": {
      "text/plain": [
       "(1019,)"
      ]
     },
     "execution_count": 68,
     "metadata": {},
     "output_type": "execute_result"
    }
   ],
   "source": [
    "np.unique(train_sample1).shape"
   ]
  },
  {
   "cell_type": "code",
   "execution_count": null,
   "metadata": {},
   "outputs": [],
   "source": []
  }
 ],
 "metadata": {
  "kernelspec": {
   "display_name": "Python dl",
   "language": "python",
   "name": "dl"
  },
  "language_info": {
   "codemirror_mode": {
    "name": "ipython",
    "version": 3
   },
   "file_extension": ".py",
   "mimetype": "text/x-python",
   "name": "python",
   "nbconvert_exporter": "python",
   "pygments_lexer": "ipython3",
   "version": "3.8.5"
  }
 },
 "nbformat": 4,
 "nbformat_minor": 2
}
