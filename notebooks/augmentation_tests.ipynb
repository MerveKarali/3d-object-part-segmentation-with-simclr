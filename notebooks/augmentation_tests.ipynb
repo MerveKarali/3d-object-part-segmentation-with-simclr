{
 "cells": [
  {
   "cell_type": "markdown",
   "metadata": {},
   "source": [
    "# Dataset Preparation\n",
    "\n",
    "- In this notebook we will download the following datasets.\n",
    "    - Princeton Segmentation Benchmark\n",
    "    - ShapeNet Parts\n",
    "    - COSEG\n",
    "    - Label Meshes\n",
    "- Create the train/val/test splits.\n",
    "- Visualize samples from the datasets."
   ]
  },
  {
   "cell_type": "code",
   "execution_count": 1,
   "metadata": {},
   "outputs": [],
   "source": [
    "import os\n",
    "os.chdir('..')"
   ]
  },
  {
   "cell_type": "code",
   "execution_count": 15,
   "metadata": {},
   "outputs": [
    {
     "name": "stdout",
     "output_type": "stream",
     "text": [
      "The autoreload extension is already loaded. To reload it, use:\n",
      "  %reload_ext autoreload\n"
     ]
    }
   ],
   "source": [
    "%load_ext autoreload\n",
    "%autoreload 2\n",
    "from pathlib import Path\n",
    "import numpy as np\n",
    "import trimesh\n",
    "import os\n",
    "import os.path\n",
    "\n",
    "from util.visualization_utils import * \n",
    "from transforms import SimCLRTrainDataTransform, FineTuningTrainDataTransform"
   ]
  },
  {
   "cell_type": "markdown",
   "metadata": {},
   "source": [
    "1. ShapeNet Parts"
   ]
  },
  {
   "cell_type": "markdown",
   "metadata": {},
   "source": [
    "## 2500 Data Points"
   ]
  },
  {
   "cell_type": "code",
   "execution_count": 85,
   "metadata": {
    "scrolled": false
   },
   "outputs": [
    {
     "name": "stdout",
     "output_type": "stream",
     "text": [
      "<class 'augmentations.augmentations.Rescale'>\n",
      "Length of train set: 12137\n",
      "torch.Size([3, 2500])\n",
      "Class = tensor([ 0.0012, -0.0792,  0.2437,  ...,  0.0066,  0.0582,  0.0561])\n",
      "torch.float32\n"
     ]
    },
    {
     "data": {
      "application/vnd.jupyter.widget-view+json": {
       "model_id": "f33a9ea065af470a9e5ab0b7747c2ae2",
       "version_major": 2,
       "version_minor": 0
      },
      "text/plain": [
       "Output()"
      ]
     },
     "metadata": {},
     "output_type": "display_data"
    }
   ],
   "source": [
    "from datasets.shapenet_parts.shapenet_parts import ShapeNetParts\n",
    "from util.visualization_utils import visualize_pointcloud\n",
    "from matplotlib import cm, colors\n",
    "import numpy as np\n",
    "from torchvision import transforms, datasets\n",
    "from augmentations.augmentations import Rescale, Flip, GaussianNoise, Rotation, RandomDrop, RandomCuboid\n",
    "\n",
    "\n",
    "transformations = [\n",
    "#     None,\n",
    "#     GaussianNoise,\n",
    "#     Rescale,\n",
    "#     Flip,\n",
    "#     Rotation,\n",
    "#     RandomDrop,\n",
    "    Rescale\n",
    "]\n",
    "\n",
    "for transform in transformations:\n",
    "    print(str(transform))\n",
    "    if transform:  \n",
    "        tranformation_compositions = FineTuningTrainDataTransform([transform(p=1)])\n",
    "    else:\n",
    "        tranformation_compositions = None\n",
    "        \n",
    "\n",
    "    # Create a dataset with train split\n",
    "    train_dataset = ShapeNetParts('train', transforms=tranformation_compositions, fine_tuning=True)\n",
    "    val_dataset = ShapeNetParts('val',  transforms=tranformation_compositions)\n",
    "    test_dataset = ShapeNetParts('test',  transforms=tranformation_compositions)\n",
    "\n",
    "\n",
    "    # Test lengths\n",
    "    print(f'Length of train set: {len(train_dataset)}') \n",
    "\n",
    "    # Get sample at index 0\n",
    "    (train_sample) , (y), class_id = train_dataset[0]\n",
    "\n",
    "    print(train_sample.shape)  # Expected output (1, 32, 32, 32) (the leading 1 is important for later)\n",
    "    print(f\"Class = {train_sample[1]}\")  # Expected output: Scalar value 0\n",
    "    print(train_sample.dtype)\n",
    "    \n",
    "    shape_points,seg = train_sample.T, y\n",
    "    point_labels = (seg - min(seg)) / (max(seg) - min(seg))\n",
    "    point_colors = cm.get_cmap('hsv')(point_labels)[:, :3]\n",
    "    point_colors = np.sum((point_colors * 255).astype(int) * [255*255, 255, 1], axis=1)\n",
    "    visualize_pointcloud(shape_points.numpy(), colors=point_colors, point_size=0.025, flip_axes=True)\n"
   ]
  },
  {
   "cell_type": "code",
   "execution_count": 54,
   "metadata": {},
   "outputs": [
    {
     "name": "stdout",
     "output_type": "stream",
     "text": [
      "Length of train set: 12137\n",
      "torch.Size([3, 2500])\n",
      "Class = tensor([ 0.2077, -0.0859, -0.1795,  ...,  0.0176,  0.0367,  0.0841])\n",
      "torch.float32\n"
     ]
    },
    {
     "data": {
      "application/vnd.jupyter.widget-view+json": {
       "model_id": "9f0867c0f75f40dead0d02d7d8f5c7a6",
       "version_major": 2,
       "version_minor": 0
      },
      "text/plain": [
       "Output()"
      ]
     },
     "metadata": {},
     "output_type": "display_data"
    }
   ],
   "source": [
    "from datasets.shapenet_parts.shapenet_parts import ShapeNetParts\n",
    "from util.visualization_utils import visualize_pointcloud\n",
    "from matplotlib import cm, colors\n",
    "import numpy as np\n",
    "from torchvision import transforms, datasets\n",
    "from augmentations.augmentations import Rescale, Flip, GaussianNoise, Rotation, RandomDrop, RandomCuboid\n",
    "\n",
    "\n",
    "tranformation_compositions = FineTuningTrainDataTransform([RandomCuboid(p=1),\n",
    "                                                           GaussianNoise(p=1),\n",
    "                                                          Rotation(p=1)\n",
    "                                                          ])        \n",
    "\n",
    "# Create a dataset with train split\n",
    "train_dataset = ShapeNetParts('train', transforms=tranformation_compositions, fine_tuning=True)\n",
    "val_dataset = ShapeNetParts('val',  transforms=tranformation_compositions)\n",
    "test_dataset = ShapeNetParts('test',  transforms=tranformation_compositions)\n",
    "\n",
    "\n",
    "# Test lengths\n",
    "print(f'Length of train set: {len(train_dataset)}') \n",
    "\n",
    "# Get sample at index 0\n",
    "(train_sample) , (y), class_id = train_dataset[0]\n",
    "\n",
    "print(train_sample.shape)  # Expected output (1, 32, 32, 32) (the leading 1 is important for later)\n",
    "print(f\"Class = {train_sample[1]}\")  # Expected output: Scalar value 0\n",
    "print(train_sample.dtype)\n",
    "\n",
    "shape_points,seg = train_sample.T, y\n",
    "point_labels = (seg - min(seg)) / (max(seg) - min(seg))\n",
    "point_colors = cm.get_cmap('hsv')(point_labels)[:, :3]\n",
    "point_colors = np.sum((point_colors * 255).astype(int) * [255*255, 255, 1], axis=1)\n",
    "visualize_pointcloud(shape_points.numpy(), colors=point_colors, point_size=0.025, flip_axes=True)\n"
   ]
  },
  {
   "cell_type": "markdown",
   "metadata": {},
   "source": [
    "## 512 Data Points"
   ]
  },
  {
   "cell_type": "code",
   "execution_count": 36,
   "metadata": {
    "scrolled": false
   },
   "outputs": [
    {
     "name": "stdout",
     "output_type": "stream",
     "text": [
      "None\n",
      "Length of train set: 12137\n",
      "asd\n",
      "sample shape: torch.Size([2500])\n",
      "train_sample1 shape: torch.Size([3, 2500])\n",
      "y1 shape: torch.Size([2500])\n"
     ]
    },
    {
     "data": {
      "application/vnd.jupyter.widget-view+json": {
       "model_id": "beb7783402784d248ad409900ef3dfcc",
       "version_major": 2,
       "version_minor": 0
      },
      "text/plain": [
       "Output()"
      ]
     },
     "metadata": {},
     "output_type": "display_data"
    },
    {
     "name": "stdout",
     "output_type": "stream",
     "text": [
      "<class 'augmentations.augmentations.RandomCuboid'>\n",
      "Length of train set: 12137\n",
      "sample shape: torch.Size([2500])\n",
      "train_sample1 shape: torch.Size([3, 2500])\n",
      "y1 shape: torch.Size([2500])\n"
     ]
    },
    {
     "data": {
      "application/vnd.jupyter.widget-view+json": {
       "model_id": "c4bb3076546d40d29994013732afeae2",
       "version_major": 2,
       "version_minor": 0
      },
      "text/plain": [
       "Output()"
      ]
     },
     "metadata": {},
     "output_type": "display_data"
    }
   ],
   "source": [
    "from datasets.shapenet_parts.shapenet_parts import ShapeNetParts\n",
    "from util.visualization_utils import visualize_pointcloud\n",
    "from matplotlib import cm, colors\n",
    "import numpy as np\n",
    "from torchvision import transforms, datasets\n",
    "from augmentations.augmentations import Rescale, Flip, GaussianNoise, Rotation,RandomCuboid, RandomDrop\n",
    "\n",
    "\n",
    "transformations = [\n",
    "    None,\n",
    "  #   GaussianWhiteNoise,\n",
    "  #   Rescale,\n",
    " #     Flip,\n",
    " #     Rotation,\n",
    " RandomCuboid,\n",
    "#RandomDrop,\n",
    "#     CutOut\n",
    "]\n",
    "\n",
    "for transform in transformations:\n",
    "    print(str(transform))\n",
    "    if transform:  \n",
    "        tranformation_compositions = SimCLRTrainDataTransform([transform(p=1)])\n",
    "    else:\n",
    "        tranformation_compositions = None\n",
    "    \n",
    "    # Create a dataset with train split\n",
    "    train_dataset = ShapeNetParts('train', transforms=tranformation_compositions)\n",
    "    train_dataset.npoints = 2500\n",
    "\n",
    "    # Test lengths\n",
    "    print(f'Length of train set: {len(train_dataset)}') \n",
    "\n",
    "    # Get sample at index 0\n",
    "    if train_dataset.transforms:\n",
    "        (train_sample,_,_) , (y,_,_), class_id = train_dataset[6000]\n",
    "    else:\n",
    "        print('asd')\n",
    "        train_sample1, y1,_ = train_dataset[6000]\n",
    "        train_sample2 = None\n",
    "\n",
    "    print(f'sample shape: {train_sample1[0].shape}')  # Expected output (1, 32, 32, 32) (the leading 1 is important for later)\n",
    "#     print(f\"Class = {train_sample[1]}\")  # Expected output: Scalar value 0\n",
    "    print(f'train_sample1 shape: {train_sample1.shape}')  # Expected output (1, 32, 32, 32) (the leading 1 is important for later)\n",
    "    print(f'y1 shape: {y1.shape}')  # Expected output (1, 32, 32, 32) (the leading 1 is important for later)\n",
    "\n",
    "    shape_points,seg = train_sample1.T, y1\n",
    "    point_labels = (seg - min(seg)) / (max(seg) - min(seg))\n",
    "    point_colors = cm.get_cmap('hsv')(point_labels)[:, :3]\n",
    "    point_colors = np.sum((point_colors * 255).astype(int) * [255*255, 255, 1], axis=1)\n",
    "    visualize_pointcloud(shape_points.numpy(), colors=point_colors, point_size=0.025, flip_axes=True)\n",
    "\n",
    "    if train_sample2 is not None:\n",
    "        print(f'train_sample2 shape: {train_sample2.shape}')  # Expected output (1, 32, 32, 32) (the leading 1 is important for later)\n",
    "        print(f'y2 shape: {y2.shape}') \n",
    "        shape_points,seg = train_sample2.T, y2\n",
    "        point_labels = (seg - min(seg)) / (max(seg) - min(seg))\n",
    "        point_colors = cm.get_cmap('hsv')(point_labels)[:, :3]\n",
    "        point_colors = np.sum((point_colors * 255).astype(int) * [255*255, 255, 1], axis=1)\n",
    "        visualize_pointcloud(shape_points.numpy(), colors=point_colors, point_size=0.025, flip_axes=True)\n"
   ]
  },
  {
   "cell_type": "code",
   "execution_count": 68,
   "metadata": {},
   "outputs": [
    {
     "data": {
      "text/plain": [
       "(1019,)"
      ]
     },
     "execution_count": 68,
     "metadata": {},
     "output_type": "execute_result"
    }
   ],
   "source": [
    "np.unique(train_sample1).shape"
   ]
  },
  {
   "cell_type": "code",
   "execution_count": null,
   "metadata": {},
   "outputs": [],
   "source": []
  }
 ],
 "metadata": {
  "kernelspec": {
   "display_name": "Python 3",
   "language": "python",
   "name": "python3"
  },
  "language_info": {
   "codemirror_mode": {
    "name": "ipython",
    "version": 3
   },
   "file_extension": ".py",
   "mimetype": "text/x-python",
   "name": "python",
   "nbconvert_exporter": "python",
   "pygments_lexer": "ipython3",
   "version": "3.7.11"
  }
 },
 "nbformat": 4,
 "nbformat_minor": 2
}
