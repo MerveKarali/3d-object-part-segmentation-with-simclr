{
 "cells": [
  {
   "cell_type": "markdown",
   "metadata": {},
   "source": [
    "# Dataset Preparation\n",
    "\n",
    "- In this notebook we will download the following datasets.\n",
    "    - Princeton Segmentation Benchmark\n",
    "    - ShapeNet Parts\n",
    "    - COSEG\n",
    "    - Label Meshes\n",
    "- Create the train/val/test splits.\n",
    "- Visualize samples from the datasets."
   ]
  },
  {
   "cell_type": "code",
   "execution_count": null,
   "metadata": {},
   "outputs": [],
   "source": [
    "import os\n",
    "os.chdir('..')"
   ]
  },
  {
   "cell_type": "code",
   "execution_count": null,
   "metadata": {},
   "outputs": [],
   "source": [
    "%load_ext autoreload\n",
    "%autoreload 2\n",
    "from pathlib import Path\n",
    "import numpy as np\n",
    "import trimesh\n",
    "import os\n",
    "import os.path\n",
    "\n",
    "from util.visualization_utils import * "
   ]
  },
  {
   "cell_type": "markdown",
   "metadata": {},
   "source": [
    "1. ShapeNet Parts"
   ]
  },
  {
   "cell_type": "code",
   "execution_count": null,
   "metadata": {},
   "outputs": [],
   "source": [
    "class SimCLRTrainDataTransform(object):\n",
    "    \"\"\"\n",
    "    Transforms for SimCLR\n",
    "    \"\"\"\n",
    "\n",
    "    def __init__(self, data_transforms) -> None:\n",
    "        self.data_transforms = transforms.Compose(data_transforms)\n",
    "        print(self.data_transforms)\n",
    "\n",
    "    def __call__(self, sample):\n",
    "        transform = self.data_transforms\n",
    "        \n",
    "        xi = transform(sample)\n",
    "        xj = transform(sample)\n",
    "\n",
    "        return xi, xj\n"
   ]
  },
  {
   "cell_type": "markdown",
   "metadata": {},
   "source": [
    "## 2500 Data Points"
   ]
  },
  {
   "cell_type": "code",
   "execution_count": null,
   "metadata": {
    "scrolled": false
   },
   "outputs": [],
   "source": [
    "from datasets.shapenet_parts.shapenet_parts import ShapeNetParts\n",
    "from util.visualization_utils import visualize_pointcloud\n",
    "from matplotlib import cm, colors\n",
    "import numpy as np\n",
    "from torchvision import transforms, datasets\n",
    "from augmentations.augmentations import Rescale, Flip, GaussianWhiteNoise, CutOut, Rotation\n",
    "\n",
    "\n",
    "transformations = [\n",
    "#     None,\n",
    "    GaussianWhiteNoise,\n",
    "    Rescale,\n",
    "    Flip,\n",
    "    CutOut,\n",
    "    Rotation\n",
    "]\n",
    "\n",
    "for transform in transformations:\n",
    "    print(str(transform))\n",
    "    if transform:  \n",
    "        tranformation_compositions = SimCLRTrainDataTransform([transform(p=1)])\n",
    "    else:\n",
    "        tranformation_compositions = None\n",
    "        \n",
    "\n",
    "    # Create a dataset with train split\n",
    "    train_dataset = ShapeNetParts('train', transforms=tranformation_compositions)\n",
    "    val_dataset = ShapeNetParts('val',  transforms=tranformation_compositions)\n",
    "    test_dataset = ShapeNetParts('test',  transforms=tranformation_compositions)\n",
    "\n",
    "\n",
    "    # Test lengths\n",
    "    print(f'Length of train set: {len(train_dataset)}') \n",
    "\n",
    "    # Get sample at index 0\n",
    "    (train_sample, _), y = train_dataset[0]\n",
    "\n",
    "    print(train_sample[0].shape)  # Expected output (1, 32, 32, 32) (the leading 1 is important for later)\n",
    "    print(f\"Class = {train_sample[1]}\")  # Expected output: Scalar value 0\n",
    "    print(train_sample[0].dtype)\n",
    "    shape_points,seg = train_sample.T, y\n",
    "    point_labels = (seg - min(seg)) / (max(seg) - min(seg))\n",
    "    point_colors = cm.get_cmap('hsv')(point_labels)[:, :3]\n",
    "    point_colors = np.sum((point_colors * 255).astype(int) * [255*255, 255, 1], axis=1)\n",
    "    visualize_pointcloud(shape_points.numpy(), colors=point_colors, point_size=0.025, flip_axes=True)\n"
   ]
  },
  {
   "cell_type": "markdown",
   "metadata": {},
   "source": [
    "## 512 Data Points"
   ]
  },
  {
   "cell_type": "code",
   "execution_count": null,
   "metadata": {
    "scrolled": false
   },
   "outputs": [],
   "source": [
    "from datasets.shapenet_parts.shapenet_parts import ShapeNetParts\n",
    "from util.visualization_utils import visualize_pointcloud\n",
    "from matplotlib import cm, colors\n",
    "import numpy as np\n",
    "from torchvision import transforms, datasets\n",
    "from augmentations.augmentations import Rescale, Flip, GaussianWhiteNoise, CutOut, Rotation\n",
    "\n",
    "\n",
    "transformations = [\n",
    "#     None,\n",
    "    GaussianWhiteNoise,\n",
    "    Rescale,\n",
    "    Flip,\n",
    "    CutOut,\n",
    "    Rotation\n",
    "]\n",
    "\n",
    "for transform in transformations:\n",
    "    print(str(transform))\n",
    "    if transform:  \n",
    "        tranformation_compositions = SimCLRTrainDataTransform([transform(p=1)])\n",
    "    else:\n",
    "        tranformation_compositions = None\n",
    "        \n",
    "\n",
    "    # Create a dataset with train split\n",
    "    train_dataset = ShapeNetParts('train', transforms=tranformation_compositions)\n",
    "    train_dataset.npoints = 8**3\n",
    "\n",
    "    # Test lengths\n",
    "    print(f'Length of train set: {len(train_dataset)}') \n",
    "\n",
    "    # Get sample at index 0\n",
    "    (train_sample, _), y = train_dataset[0]\n",
    "\n",
    "    print(train_sample[0].shape)  # Expected output (1, 32, 32, 32) (the leading 1 is important for later)\n",
    "#     print(f\"Class = {train_sample[1]}\")  # Expected output: Scalar value 0\n",
    "\n",
    "    shape_points,seg = train_sample.T, y\n",
    "    point_labels = (seg - min(seg)) / (max(seg) - min(seg))\n",
    "    point_colors = cm.get_cmap('hsv')(point_labels)[:, :3]\n",
    "    point_colors = np.sum((point_colors * 255).astype(int) * [255*255, 255, 1], axis=1)\n",
    "    visualize_pointcloud(shape_points.numpy(), colors=point_colors, point_size=0.025, flip_axes=True)\n"
   ]
  }
 ],
 "metadata": {
  "kernelspec": {
   "display_name": "Python dl",
   "language": "python",
   "name": "dl"
  },
  "language_info": {
   "codemirror_mode": {
    "name": "ipython",
    "version": 3
   },
   "file_extension": ".py",
   "mimetype": "text/x-python",
   "name": "python",
   "nbconvert_exporter": "python",
   "pygments_lexer": "ipython3",
   "version": "3.8.5"
  }
 },
 "nbformat": 4,
 "nbformat_minor": 2
}
