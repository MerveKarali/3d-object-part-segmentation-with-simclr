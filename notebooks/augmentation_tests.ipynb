{
 "cells": [
  {
   "cell_type": "markdown",
   "metadata": {},
   "source": [
    "# Dataset Preparation\n",
    "\n",
    "- In this notebook we will download the following datasets.\n",
    "    - Princeton Segmentation Benchmark\n",
    "    - ShapeNet Parts\n",
    "    - COSEG\n",
    "    - Label Meshes\n",
    "- Create the train/val/test splits.\n",
    "- Visualize samples from the datasets."
   ]
  },
  {
   "cell_type": "code",
   "execution_count": 1,
   "metadata": {},
   "outputs": [],
   "source": [
    "import os\n",
    "os.chdir('..')"
   ]
  },
  {
   "cell_type": "code",
   "execution_count": 2,
   "metadata": {},
   "outputs": [],
   "source": [
    "%load_ext autoreload\n",
    "%autoreload 2\n",
    "from pathlib import Path\n",
    "import numpy as np\n",
    "import trimesh\n",
    "import os\n",
    "import os.path\n",
    "\n",
    "from util.visualization_utils import * "
   ]
  },
  {
   "cell_type": "markdown",
   "metadata": {},
   "source": [
    "1. ShapeNet Parts"
   ]
  },
  {
   "cell_type": "code",
   "execution_count": 3,
   "metadata": {},
   "outputs": [],
   "source": [
    "class SimCLRTrainDataTransform(object):\n",
    "    \"\"\"\n",
    "    Transforms for SimCLR\n",
    "    \"\"\"\n",
    "\n",
    "    def __init__(self, data_transforms) -> None:\n",
    "        self.data_transforms = transforms.Compose(data_transforms)\n",
    "        print(self.data_transforms)\n",
    "\n",
    "    def __call__(self, sample):\n",
    "        transform = self.data_transforms\n",
    "        \n",
    "        xi = transform(sample)\n",
    "        xj = transform(sample)\n",
    "\n",
    "        return xi, xj\n"
   ]
  },
  {
   "cell_type": "markdown",
   "metadata": {},
   "source": [
    "## 2500 Data Points"
   ]
  },
  {
   "cell_type": "code",
   "execution_count": 4,
   "metadata": {
    "scrolled": false
   },
   "outputs": [
    {
     "ename": "ImportError",
     "evalue": "cannot import name 'CutOut' from 'augmentations.augmentations' (/home/mert/Documents/projects/ml43d/3d-object-part-segmentation-with-simclr/augmentations/augmentations.py)",
     "output_type": "error",
     "traceback": [
      "\u001b[0;31m---------------------------------------------------------------------------\u001b[0m",
      "\u001b[0;31mImportError\u001b[0m                               Traceback (most recent call last)",
      "\u001b[0;32m<ipython-input-4-f6e50453312c>\u001b[0m in \u001b[0;36m<module>\u001b[0;34m\u001b[0m\n\u001b[1;32m      4\u001b[0m \u001b[0;32mimport\u001b[0m \u001b[0mnumpy\u001b[0m \u001b[0;32mas\u001b[0m \u001b[0mnp\u001b[0m\u001b[0;34m\u001b[0m\u001b[0;34m\u001b[0m\u001b[0m\n\u001b[1;32m      5\u001b[0m \u001b[0;32mfrom\u001b[0m \u001b[0mtorchvision\u001b[0m \u001b[0;32mimport\u001b[0m \u001b[0mtransforms\u001b[0m\u001b[0;34m,\u001b[0m \u001b[0mdatasets\u001b[0m\u001b[0;34m\u001b[0m\u001b[0;34m\u001b[0m\u001b[0m\n\u001b[0;32m----> 6\u001b[0;31m \u001b[0;32mfrom\u001b[0m \u001b[0maugmentations\u001b[0m\u001b[0;34m.\u001b[0m\u001b[0maugmentations\u001b[0m \u001b[0;32mimport\u001b[0m \u001b[0mRescale\u001b[0m\u001b[0;34m,\u001b[0m \u001b[0mFlip\u001b[0m\u001b[0;34m,\u001b[0m \u001b[0mGaussianWhiteNoise\u001b[0m\u001b[0;34m,\u001b[0m \u001b[0mCutOut\u001b[0m\u001b[0;34m,\u001b[0m \u001b[0mRotation\u001b[0m\u001b[0;34m\u001b[0m\u001b[0;34m\u001b[0m\u001b[0m\n\u001b[0m\u001b[1;32m      7\u001b[0m \u001b[0;34m\u001b[0m\u001b[0m\n\u001b[1;32m      8\u001b[0m \u001b[0;34m\u001b[0m\u001b[0m\n",
      "\u001b[0;31mImportError\u001b[0m: cannot import name 'CutOut' from 'augmentations.augmentations' (/home/mert/Documents/projects/ml43d/3d-object-part-segmentation-with-simclr/augmentations/augmentations.py)"
     ]
    }
   ],
   "source": [
    "from datasets.shapenet_parts.shapenet_parts import ShapeNetParts\n",
    "from util.visualization_utils import visualize_pointcloud\n",
    "from matplotlib import cm, colors\n",
    "import numpy as np\n",
    "from torchvision import transforms, datasets\n",
    "from augmentations.augmentations import Rescale, Flip, GaussianWhiteNoise, CutOut, Rotation\n",
    "\n",
    "\n",
    "transformations = [\n",
    "#     None,\n",
    "    GaussianWhiteNoise,\n",
    "    Rescale,\n",
    "    Flip,\n",
    "    CutOut,\n",
    "    Rotation\n",
    "]\n",
    "\n",
    "for transform in transformations:\n",
    "    print(str(transform))\n",
    "    if transform:  \n",
    "        tranformation_compositions = SimCLRTrainDataTransform([transform(p=1)])\n",
    "    else:\n",
    "        tranformation_compositions = None\n",
    "        \n",
    "\n",
    "    # Create a dataset with train split\n",
    "    train_dataset = ShapeNetParts('train', transforms=tranformation_compositions)\n",
    "    val_dataset = ShapeNetParts('val',  transforms=tranformation_compositions)\n",
    "    test_dataset = ShapeNetParts('test',  transforms=tranformation_compositions)\n",
    "\n",
    "\n",
    "    # Test lengths\n",
    "    print(f'Length of train set: {len(train_dataset)}') \n",
    "\n",
    "    # Get sample at index 0\n",
    "    (train_sample, _), y = train_dataset[0]\n",
    "\n",
    "    print(train_sample[0].shape)  # Expected output (1, 32, 32, 32) (the leading 1 is important for later)\n",
    "    print(f\"Class = {train_sample[1]}\")  # Expected output: Scalar value 0\n",
    "    print(train_sample[0].dtype)\n",
    "    shape_points,seg = train_sample.T, y\n",
    "    point_labels = (seg - min(seg)) / (max(seg) - min(seg))\n",
    "    point_colors = cm.get_cmap('hsv')(point_labels)[:, :3]\n",
    "    point_colors = np.sum((point_colors * 255).astype(int) * [255*255, 255, 1], axis=1)\n",
    "    visualize_pointcloud(shape_points.numpy(), colors=point_colors, point_size=0.025, flip_axes=True)\n"
   ]
  },
  {
   "cell_type": "markdown",
   "metadata": {},
   "source": [
    "## 512 Data Points"
   ]
  },
  {
   "cell_type": "code",
   "execution_count": 14,
   "metadata": {
    "scrolled": false
   },
   "outputs": [
    {
     "name": "stdout",
     "output_type": "stream",
     "text": [
      "None\n",
      "Length of train set: 12137\n",
      "asd\n",
      "sample shape: torch.Size([2500])\n",
      "train_sample1 shape: torch.Size([3, 2500])\n",
      "y1 shape: torch.Size([2500])\n"
     ]
    },
    {
     "data": {
      "application/vnd.jupyter.widget-view+json": {
       "model_id": "40c05a2d690045879ea6f77c9e6f04fe",
       "version_major": 2,
       "version_minor": 0
      },
      "text/plain": [
       "Output()"
      ]
     },
     "metadata": {},
     "output_type": "display_data"
    },
    {
     "name": "stdout",
     "output_type": "stream",
     "text": [
      "<class 'augmentations.augmentations.RandomCuboid'>\n",
      "Compose(\n",
      "    <augmentations.augmentations.RandomCuboid object at 0x7f734335bf10>\n",
      ")\n",
      "Length of train set: 12137\n",
      "sample shape: torch.Size([2500])\n",
      "train_sample1 shape: torch.Size([3, 2500])\n",
      "y1 shape: torch.Size([2500])\n"
     ]
    },
    {
     "data": {
      "application/vnd.jupyter.widget-view+json": {
       "model_id": "8d0749dffe93446ab3e4c62cac5f8a55",
       "version_major": 2,
       "version_minor": 0
      },
      "text/plain": [
       "Output()"
      ]
     },
     "metadata": {},
     "output_type": "display_data"
    },
    {
     "name": "stdout",
     "output_type": "stream",
     "text": [
      "train_sample2 shape: torch.Size([3, 2500])\n",
      "y2 shape: torch.Size([2500])\n"
     ]
    },
    {
     "data": {
      "application/vnd.jupyter.widget-view+json": {
       "model_id": "c27a43e8dc9b4b058d21c385f2636645",
       "version_major": 2,
       "version_minor": 0
      },
      "text/plain": [
       "Output()"
      ]
     },
     "metadata": {},
     "output_type": "display_data"
    }
   ],
   "source": [
    "from datasets.shapenet_parts.shapenet_parts import ShapeNetParts\n",
    "from util.visualization_utils import visualize_pointcloud\n",
    "from matplotlib import cm, colors\n",
    "import numpy as np\n",
    "from torchvision import transforms, datasets\n",
    "from augmentations.augmentations import Rescale, Flip, GaussianWhiteNoise, Rotation,RandomCuboid, RandomDrop\n",
    "\n",
    "\n",
    "transformations = [\n",
    "    None,\n",
    "  #   GaussianWhiteNoise,\n",
    "  #   Rescale,\n",
    " #     Flip,\n",
    " #     Rotation,\n",
    " RandomCuboid,\n",
    "#RandomDrop,\n",
    "#     CutOut\n",
    "]\n",
    "\n",
    "for transform in transformations:\n",
    "    print(str(transform))\n",
    "    if transform:  \n",
    "        tranformation_compositions = SimCLRTrainDataTransform([transform(p=1)])\n",
    "    else:\n",
    "        tranformation_compositions = None\n",
    "    \n",
    "    # Create a dataset with train split\n",
    "    train_dataset = ShapeNetParts('train', transforms=tranformation_compositions)\n",
    "    train_dataset.npoints = 2500\n",
    "\n",
    "    # Test lengths\n",
    "    print(f'Length of train set: {len(train_dataset)}') \n",
    "\n",
    "    # Get sample at index 0\n",
    "    if train_dataset.transforms:\n",
    "        (train_sample1, train_sample2), (y1, y2) = train_dataset[6000]\n",
    "    else:\n",
    "        print('asd')\n",
    "        train_sample1, y1 = train_dataset[6000]\n",
    "        train_sample2 = None\n",
    "\n",
    "    print(f'sample shape: {train_sample1[0].shape}')  # Expected output (1, 32, 32, 32) (the leading 1 is important for later)\n",
    "#     print(f\"Class = {train_sample[1]}\")  # Expected output: Scalar value 0\n",
    "    print(f'train_sample1 shape: {train_sample1.shape}')  # Expected output (1, 32, 32, 32) (the leading 1 is important for later)\n",
    "    print(f'y1 shape: {y1.shape}')  # Expected output (1, 32, 32, 32) (the leading 1 is important for later)\n",
    "\n",
    "    shape_points,seg = train_sample1.T, y1\n",
    "    point_labels = (seg - min(seg)) / (max(seg) - min(seg))\n",
    "    point_colors = cm.get_cmap('hsv')(point_labels)[:, :3]\n",
    "    point_colors = np.sum((point_colors * 255).astype(int) * [255*255, 255, 1], axis=1)\n",
    "    visualize_pointcloud(shape_points.numpy(), colors=point_colors, point_size=0.025, flip_axes=True)\n",
    "\n",
    "    if train_sample2 is not None:\n",
    "        print(f'train_sample2 shape: {train_sample2.shape}')  # Expected output (1, 32, 32, 32) (the leading 1 is important for later)\n",
    "        print(f'y2 shape: {y2.shape}') \n",
    "        shape_points,seg = train_sample2.T, y2\n",
    "        point_labels = (seg - min(seg)) / (max(seg) - min(seg))\n",
    "        point_colors = cm.get_cmap('hsv')(point_labels)[:, :3]\n",
    "        point_colors = np.sum((point_colors * 255).astype(int) * [255*255, 255, 1], axis=1)\n",
    "        visualize_pointcloud(shape_points.numpy(), colors=point_colors, point_size=0.025, flip_axes=True)\n"
   ]
  },
  {
   "cell_type": "code",
   "execution_count": null,
   "metadata": {},
   "outputs": [],
   "source": [
    "np.unique(seg)"
   ]
  },
  {
   "cell_type": "code",
   "execution_count": 26,
   "metadata": {
    "scrolled": true
   },
   "outputs": [
    {
     "data": {
      "image/png": "[encoded data removed]",
      "text/plain": [
       "<Figure size 432x288 with 1 Axes>"
      ]
     },
     "metadata": {
      "needs_background": "light"
     },
     "output_type": "display_data"
    },
    {
     "data": {
      "text/plain": [
       "[<matplotlib.lines.Line2D at 0x7f0838b604d0>]"
      ]
     },
     "execution_count": 26,
     "metadata": {},
     "output_type": "execute_result"
    },
    {
     "data": {
      "image/png": "[encoded data removed]",
      "text/plain": [
       "<Figure size 432x288 with 1 Axes>"
      ]
     },
     "metadata": {
      "needs_background": "light"
     },
     "output_type": "display_data"
    }
   ],
   "source": [
    "import matplotlib.pyplot as plt\n",
    "plt.plot((np.random.rand(2500, 1) - 0.5) * 0.015)\n",
    "plt.show()\n",
    "plt.plot(np.random.normal(0, 0.015, (2500,1)))"
   ]
  },
  {
   "cell_type": "code",
   "execution_count": 68,
   "metadata": {},
   "outputs": [
    {
     "data": {
      "text/plain": [
       "(1019,)"
      ]
     },
     "execution_count": 68,
     "metadata": {},
     "output_type": "execute_result"
    }
   ],
   "source": [
    "np.unique(train_sample1).shape"
   ]
  },
  {
   "cell_type": "code",
   "execution_count": null,
   "metadata": {},
   "outputs": [],
   "source": []
  }
 ],
 "metadata": {
  "kernelspec": {
   "display_name": "Python 3",
   "language": "python",
   "name": "python3"
  },
  "language_info": {
   "codemirror_mode": {
    "name": "ipython",
    "version": 3
   },
   "file_extension": ".py",
   "mimetype": "text/x-python",
   "name": "python",
   "nbconvert_exporter": "python",
   "pygments_lexer": "ipython3",
   "version": "3.7.10"
  }
 },
 "nbformat": 4,
 "nbformat_minor": 2
}
