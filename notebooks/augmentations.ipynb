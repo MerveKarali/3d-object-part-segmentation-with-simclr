{
 "cells": [
  {
   "cell_type": "markdown",
   "metadata": {},
   "source": [
    "# Augmentations"
   ]
  },
  {
   "cell_type": "code",
   "execution_count": 1,
   "metadata": {},
   "outputs": [
    {
     "ename": "ModuleNotFoundError",
     "evalue": "No module named 'util'",
     "output_type": "error",
     "traceback": [
      "\u001b[0;31m---------------------------------------------------------------------------\u001b[0m",
      "\u001b[0;31mModuleNotFoundError\u001b[0m                       Traceback (most recent call last)",
      "\u001b[0;32m<ipython-input-1-17695c0cc4d0>\u001b[0m in \u001b[0;36m<module>\u001b[0;34m\u001b[0m\n\u001b[1;32m      5\u001b[0m \u001b[0;32mimport\u001b[0m \u001b[0mtrimesh\u001b[0m\u001b[0;34m\u001b[0m\u001b[0;34m\u001b[0m\u001b[0m\n\u001b[1;32m      6\u001b[0m \u001b[0;34m\u001b[0m\u001b[0m\n\u001b[0;32m----> 7\u001b[0;31m \u001b[0;32mfrom\u001b[0m \u001b[0mutil\u001b[0m\u001b[0;34m.\u001b[0m\u001b[0mvisualization_utils\u001b[0m \u001b[0;32mimport\u001b[0m \u001b[0;34m*\u001b[0m\u001b[0;34m\u001b[0m\u001b[0;34m\u001b[0m\u001b[0m\n\u001b[0m",
      "\u001b[0;31mModuleNotFoundError\u001b[0m: No module named 'util'"
     ]
    }
   ],
   "source": [
    "%load_ext autoreload\n",
    "%autoreload 2\n",
    "from pathlib import Path\n",
    "import numpy as np\n",
    "import trimesh\n",
    "\n",
    "from util.visualization_utils import * "
   ]
  },
  {
   "cell_type": "markdown",
   "metadata": {},
   "source": [
    "1. Princeton Segmentation Benchmark"
   ]
  },
  {
   "cell_type": "code",
   "execution_count": null,
   "metadata": {},
   "outputs": [],
   "source": [
    "# Load one sample and visualize\n",
    "sample = trimesh.load(\"./data/MeshsegBenchmark-1.0/data/off/1.off\")\n",
    "visualize_mesh(sample)"
   ]
  },
  {
   "cell_type": "code",
   "execution_count": null,
   "metadata": {},
   "outputs": [],
   "source": [
    "# Sample points from the given mesh to create a pointcloud\n",
    "res = 20\n",
    "points, face_indices = trimesh.sample.sample_surface(sample,res**3)\n",
    "visualize_pointcloud(points)"
   ]
  },
  {
   "cell_type": "markdown",
   "metadata": {},
   "source": [
    "## Scale"
   ]
  },
  {
   "cell_type": "code",
   "execution_count": null,
   "metadata": {},
   "outputs": [],
   "source": [
    "import matplotlib.pyplot as plt\n",
    "plt.plot(np.random.normal(0.7, 0.05, 1000))"
   ]
  },
  {
   "cell_type": "code",
   "execution_count": null,
   "metadata": {},
   "outputs": [],
   "source": [
    "def scale(points):\n",
    "    \"\"\"\n",
    "    Scales the object. The scale value is sampled from a normal distribution \n",
    "    with 0.7 mean and 0.05 variance\n",
    "\n",
    "    Parameters\n",
    "    ----------\n",
    "\n",
    "    points (ndarray): 3D object\n",
    "    \n",
    "    Returns\n",
    "    -------\n",
    "\n",
    "    out (ndarray) : Augmentated 3D object\n",
    "    \"\"\"\n",
    "    points_temp = points.copy()\n",
    "    scale = np.random.normal(0.7, 0.05, 1)\n",
    "    points_temp = points_temp*scale\n",
    "    return points_temp\n",
    "    \n",
    "visualize_pointcloud(scale(points))"
   ]
  },
  {
   "cell_type": "markdown",
   "metadata": {},
   "source": [
    "## Flip"
   ]
  },
  {
   "cell_type": "code",
   "execution_count": null,
   "metadata": {},
   "outputs": [],
   "source": [
    "def flip(points):\n",
    "    \"\"\"\n",
    "    Flip the object over x or y axis.\n",
    "\n",
    "    Parameters\n",
    "    ----------\n",
    "\n",
    "    points (ndarray): 3D object\n",
    "    \n",
    "    Returns\n",
    "    -------\n",
    "\n",
    "    out (ndarray) : Augmentated 3D object\n",
    "    \"\"\"\n",
    "    points_temp = points.copy()\n",
    "    index = np.random.choice(2, 1)\n",
    "    points_temp[:,index] = -points_temp[:,index]\n",
    "    return points_temp\n",
    "    \n",
    "visualize_pointcloud(flip(points))"
   ]
  },
  {
   "cell_type": "markdown",
   "metadata": {},
   "source": [
    "## Gaussian Noise"
   ]
  },
  {
   "cell_type": "code",
   "execution_count": null,
   "metadata": {},
   "outputs": [],
   "source": [
    "def gaussian_white_noise(points):\n",
    "    \"\"\"\n",
    "    Additive Gaussian white noise with zero mean and 0.008 variance.\n",
    "\n",
    "    Parameters\n",
    "    ----------\n",
    "\n",
    "    points (ndarray): 3D object\n",
    "    \n",
    "    Returns\n",
    "    -------\n",
    "\n",
    "    out (ndarray) : Augmentated 3D object\n",
    "    \"\"\"\n",
    "    points_temp = points.copy()\n",
    "    GAUSS_NOISE_MU = 0\n",
    "    GAUSS_NOISE_SIGMA = 0.008\n",
    "    \n",
    "    noise = np.random.normal(GAUSS_NOISE_MU, GAUSS_NOISE_SIGMA, points.shape)\n",
    "    return points_temp + noise\n",
    "\n",
    "visualize_pointcloud(gaussian_white_noise(points))"
   ]
  },
  {
   "cell_type": "markdown",
   "metadata": {},
   "source": [
    "## Cutout"
   ]
  },
  {
   "cell_type": "code",
   "execution_count": null,
   "metadata": {},
   "outputs": [],
   "source": [
    "def cutout(points, cut_ratio=0.1):\n",
    "    \"\"\"\n",
    "    Cuts a portion of the object.\n",
    "\n",
    "    Parameters\n",
    "    ----------\n",
    "\n",
    "    points (ndarray): 3D object\n",
    "    \n",
    "    Returns\n",
    "    -------\n",
    "\n",
    "    out (ndarray) : Augmentated 3D object\n",
    "    \"\"\"\n",
    "    points_temp = points.copy()\n",
    "    \n",
    "    for axis in range(3):\n",
    "        max_val, min_val = np.max(points_temp.T[axis]), np.min(points_temp.T[axis])\n",
    "        cut_len = np.abs(max_val-min_val)*cut_ratio\n",
    "        start_pos = np.random.uniform(min_val,max_val-cut_len,1)\n",
    "        positions = (start_pos, start_pos + cut_len)\n",
    "        indices = np.where((points_temp.T[axis]>positions[0]) & (points_temp.T[axis]<positions[1]))\n",
    "        points_temp = np.delete(points_temp, indices, axis=0)\n",
    "        \n",
    "    # TODO: Resample to 8000\n",
    "    \n",
    "    return points_temp\n",
    "\n",
    "visualize_pointcloud(cutout(points))"
   ]
  },
  {
   "cell_type": "markdown",
   "metadata": {},
   "source": [
    "## Rotation"
   ]
  },
  {
   "cell_type": "code",
   "execution_count": null,
   "metadata": {},
   "outputs": [],
   "source": [
    "from scipy.linalg import expm, norm\n",
    "\n",
    "def M(axis, theta):\n",
    "    return expm(np.cross(np.eye(3), axis/norm(axis)*theta))\n",
    "\n",
    "def rotate(points):\n",
    "    points_temp = points.copy()\n",
    "    axis, theta = [4,4,1], np.random.uniform(0,10,1)\n",
    "    rotation_matrix = M(axis, theta)\n",
    "    return np.dot(rotation_matrix,points_temp.T).T\n",
    "\n",
    "visualize_pointcloud(rotate(points))"
   ]
  }
 ],
 "metadata": {
  "kernelspec": {
   "display_name": "Python dl",
   "language": "python",
   "name": "dl"
  },
  "language_info": {
   "codemirror_mode": {
    "name": "ipython",
    "version": 3
   },
   "file_extension": ".py",
   "mimetype": "text/x-python",
   "name": "python",
   "nbconvert_exporter": "python",
   "pygments_lexer": "ipython3",
   "version": "3.8.5"
  }
 },
 "nbformat": 4,
 "nbformat_minor": 2
}
