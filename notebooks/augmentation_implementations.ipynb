{
 "cells": [
  {
   "cell_type": "markdown",
   "metadata": {},
   "source": [
    "# Augmentations"
   ]
  },
  {
   "cell_type": "code",
   "execution_count": 1,
   "metadata": {},
   "outputs": [],
   "source": [
    "import os\n",
    "os.chdir('..')"
   ]
  },
  {
   "cell_type": "code",
   "execution_count": 2,
   "metadata": {},
   "outputs": [],
   "source": [
    "%load_ext autoreload\n",
    "%autoreload 2\n",
    "from pathlib import Path\n",
    "import numpy as np\n",
    "import trimesh\n",
    "\n",
    "from util.visualization_utils import * "
   ]
  },
  {
   "cell_type": "markdown",
   "metadata": {},
   "source": [
    "1. Princeton Segmentation Benchmark"
   ]
  },
  {
   "cell_type": "code",
   "execution_count": 3,
   "metadata": {},
   "outputs": [
    {
     "name": "stderr",
     "output_type": "stream",
     "text": [
      "/home/umur/anaconda3/envs/dl/lib/python3.8/site-packages/traittypes/traittypes.py:97: UserWarning: Given trait value dtype \"float32\" does not match required type \"float32\". A coerced copy has been created.\n",
      "  warnings.warn(\n",
      "/home/umur/anaconda3/envs/dl/lib/python3.8/site-packages/traittypes/traittypes.py:97: UserWarning: Given trait value dtype \"uint32\" does not match required type \"uint32\". A coerced copy has been created.\n",
      "  warnings.warn(\n"
     ]
    },
    {
     "data": {
      "application/vnd.jupyter.widget-view+json": {
       "model_id": "e0fd5375ac0c49aa8d1ea53d1e08bf44",
       "version_major": 2,
       "version_minor": 0
      },
      "text/plain": [
       "Output()"
      ]
     },
     "metadata": {},
     "output_type": "display_data"
    }
   ],
   "source": [
    "# Load one sample and visualize\n",
    "sample = trimesh.load(\"./data/MeshsegBenchmark-1.0/data/off/1.off\")\n",
    "visualize_mesh(sample)"
   ]
  },
  {
   "cell_type": "code",
   "execution_count": 4,
   "metadata": {},
   "outputs": [
    {
     "data": {
      "application/vnd.jupyter.widget-view+json": {
       "model_id": "7ad945cbf0914f89a00b52be471bbe7d",
       "version_major": 2,
       "version_minor": 0
      },
      "text/plain": [
       "Output()"
      ]
     },
     "metadata": {},
     "output_type": "display_data"
    }
   ],
   "source": [
    "# Sample points from the given mesh to create a pointcloud\n",
    "res = 20\n",
    "points, face_indices = trimesh.sample.sample_surface(sample,res**3)\n",
    "visualize_pointcloud(points)"
   ]
  },
  {
   "cell_type": "markdown",
   "metadata": {},
   "source": [
    "## Scale"
   ]
  },
  {
   "cell_type": "code",
   "execution_count": 5,
   "metadata": {},
   "outputs": [
    {
     "data": {
      "text/plain": [
       "[<matplotlib.lines.Line2D at 0x7fc46c6bcfa0>]"
      ]
     },
     "execution_count": 5,
     "metadata": {},
     "output_type": "execute_result"
    },
    {
     "data": {
      "image/png": "[encoded data removed]",
      "text/plain": [
       "<Figure size 432x288 with 1 Axes>"
      ]
     },
     "metadata": {
      "needs_background": "light"
     },
     "output_type": "display_data"
    }
   ],
   "source": [
    "import matplotlib.pyplot as plt\n",
    "plt.plot(np.random.normal(0.7, 0.05, 1000))"
   ]
  },
  {
   "cell_type": "code",
   "execution_count": 6,
   "metadata": {},
   "outputs": [
    {
     "data": {
      "application/vnd.jupyter.widget-view+json": {
       "model_id": "1b23d848301e443eb2d70ce3017a1408",
       "version_major": 2,
       "version_minor": 0
      },
      "text/plain": [
       "Output()"
      ]
     },
     "metadata": {},
     "output_type": "display_data"
    }
   ],
   "source": [
    "def scale(points):\n",
    "    \"\"\"\n",
    "    Scales the object. The scale value is sampled from a normal distribution \n",
    "    with 0.7 mean and 0.05 variance\n",
    "\n",
    "    Parameters\n",
    "    ----------\n",
    "\n",
    "    points (ndarray): 3D object\n",
    "    \n",
    "    Returns\n",
    "    -------\n",
    "\n",
    "    out (ndarray) : Augmentated 3D object\n",
    "    \"\"\"\n",
    "    points_temp = points.copy()\n",
    "    scale = np.random.normal(0.7, 0.05, 1)\n",
    "    points_temp = points_temp*scale\n",
    "    return points_temp\n",
    "    \n",
    "visualize_pointcloud(scale(points))"
   ]
  },
  {
   "cell_type": "markdown",
   "metadata": {},
   "source": [
    "## Flip"
   ]
  },
  {
   "cell_type": "code",
   "execution_count": 20,
   "metadata": {},
   "outputs": [
    {
     "data": {
      "application/vnd.jupyter.widget-view+json": {
       "model_id": "c855495670134a1d8ff368d33e0e1faa",
       "version_major": 2,
       "version_minor": 0
      },
      "text/plain": [
       "Output()"
      ]
     },
     "metadata": {},
     "output_type": "display_data"
    }
   ],
   "source": [
    "def flip(points):\n",
    "    \"\"\"\n",
    "    Flip the object over x or y axis.\n",
    "\n",
    "    Parameters\n",
    "    ----------\n",
    "\n",
    "    points (ndarray): 3D object\n",
    "    \n",
    "    Returns\n",
    "    -------\n",
    "\n",
    "    out (ndarray) : Augmentated 3D object\n",
    "    \"\"\"\n",
    "    points_temp = points.copy()\n",
    "    index = np.random.choice(2, 1)\n",
    "    points_temp[:,index] = -points_temp[:,index]\n",
    "    return points_temp\n",
    "    \n",
    "visualize_pointcloud(flip(points))"
   ]
  },
  {
   "cell_type": "markdown",
   "metadata": {},
   "source": [
    "## Gaussian Noise"
   ]
  },
  {
   "cell_type": "code",
   "execution_count": 31,
   "metadata": {},
   "outputs": [
    {
     "data": {
      "application/vnd.jupyter.widget-view+json": {
       "model_id": "26eb4547715a46ddbefbfa9b24917c29",
       "version_major": 2,
       "version_minor": 0
      },
      "text/plain": [
       "Output()"
      ]
     },
     "metadata": {},
     "output_type": "display_data"
    }
   ],
   "source": [
    "def gaussian_white_noise(points):\n",
    "    \"\"\"\n",
    "    Additive Gaussian white noise with zero mean and 0.008 variance.\n",
    "\n",
    "    Parameters\n",
    "    ----------\n",
    "\n",
    "    points (ndarray): 3D object\n",
    "    \n",
    "    Returns\n",
    "    -------\n",
    "\n",
    "    out (ndarray) : Augmentated 3D object\n",
    "    \"\"\"\n",
    "    points_temp = points.copy()\n",
    "    GAUSS_NOISE_MU = 0\n",
    "    GAUSS_NOISE_SIGMA = 0.015\n",
    "    \n",
    "    noise = np.random.normal(GAUSS_NOISE_MU, GAUSS_NOISE_SIGMA, points.shape)\n",
    "    return points_temp + noise\n",
    "\n",
    "visualize_pointcloud(gaussian_white_noise(points))"
   ]
  },
  {
   "cell_type": "markdown",
   "metadata": {},
   "source": [
    "## Cutout"
   ]
  },
  {
   "cell_type": "code",
   "execution_count": 37,
   "metadata": {},
   "outputs": [
    {
     "data": {
      "application/vnd.jupyter.widget-view+json": {
       "model_id": "ac3e3c9ae239441892264f3d3e9fba04",
       "version_major": 2,
       "version_minor": 0
      },
      "text/plain": [
       "Output()"
      ]
     },
     "metadata": {},
     "output_type": "display_data"
    },
    {
     "data": {
      "text/plain": [
       "(6505, 3)"
      ]
     },
     "execution_count": 37,
     "metadata": {},
     "output_type": "execute_result"
    }
   ],
   "source": [
    "def cutout(points, cut_ratio=0.1):\n",
    "    \"\"\"\n",
    "    Cuts a portion of the object.\n",
    "\n",
    "    Parameters\n",
    "    ----------\n",
    "\n",
    "    points (ndarray): 3D object\n",
    "    \n",
    "    Returns\n",
    "    -------\n",
    "\n",
    "    out (ndarray) : Augmentated 3D object\n",
    "    \"\"\"\n",
    "    points_temp = points.copy()\n",
    "    \n",
    "    for axis in range(3):\n",
    "        max_val, min_val = np.max(points_temp.T[axis]), np.min(points_temp.T[axis])\n",
    "        cut_len = np.abs(max_val-min_val)*cut_ratio\n",
    "        start_pos = np.random.uniform(min_val,max_val-cut_len,1)\n",
    "        positions = (start_pos, start_pos + cut_len)\n",
    "        indices = np.where((points_temp.T[axis]>positions[0]) & (points_temp.T[axis]<positions[1]))\n",
    "        points_temp = np.delete(points_temp, indices, axis=0)\n",
    "        \n",
    "    # TODO: Resample to 8000\n",
    "    \n",
    "    return points_temp\n",
    "\n",
    "visualize_pointcloud(cutout(points))\n",
    "cutout(points).shape"
   ]
  },
  {
   "cell_type": "markdown",
   "metadata": {},
   "source": [
    "## Rotation"
   ]
  },
  {
   "cell_type": "code",
   "execution_count": 75,
   "metadata": {},
   "outputs": [
    {
     "data": {
      "application/vnd.jupyter.widget-view+json": {
       "model_id": "69358f8eba4a412482b0bf5729ba88e8",
       "version_major": 2,
       "version_minor": 0
      },
      "text/plain": [
       "Output()"
      ]
     },
     "metadata": {},
     "output_type": "display_data"
    }
   ],
   "source": [
    "from scipy.linalg import expm, norm\n",
    "\n",
    "def M(axis, theta):\n",
    "    return expm(np.cross(np.eye(3), axis/norm(axis)*theta))\n",
    "\n",
    "def rotate(points):\n",
    "    points_temp = points.copy()\n",
    "    axis, theta = [4,4,1], np.random.uniform(0,np.pi*2,1)\n",
    "    rotation_matrix = M(axis, theta)\n",
    "    return np.dot(rotation_matrix,points_temp.T).T\n",
    "\n",
    "visualize_pointcloud(rotate(points))"
   ]
  }
 ],
 "metadata": {
  "kernelspec": {
   "display_name": "Python dl",
   "language": "python",
   "name": "dl"
  },
  "language_info": {
   "codemirror_mode": {
    "name": "ipython",
    "version": 3
   },
   "file_extension": ".py",
   "mimetype": "text/x-python",
   "name": "python",
   "nbconvert_exporter": "python",
   "pygments_lexer": "ipython3",
   "version": "3.8.5"
  }
 },
 "nbformat": 4,
 "nbformat_minor": 2
}
