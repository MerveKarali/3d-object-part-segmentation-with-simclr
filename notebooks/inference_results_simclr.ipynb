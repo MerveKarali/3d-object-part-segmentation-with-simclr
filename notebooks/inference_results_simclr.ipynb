{
 "cells": [
  {
   "cell_type": "code",
   "execution_count": 1,
   "id": "311f0775",
   "metadata": {},
   "outputs": [],
   "source": [
    "import os\n",
    "import os.path\n",
    "os.chdir('..')"
   ]
  },
  {
   "cell_type": "code",
   "execution_count": 2,
   "id": "9e4ce43a",
   "metadata": {},
   "outputs": [
    {
     "name": "stderr",
     "output_type": "stream",
     "text": [
      "/home/mert/venvs/ml43d/lib/python3.7/site-packages/pytorch_lightning/metrics/__init__.py:44: LightningDeprecationWarning: `pytorch_lightning.metrics.*` module has been renamed to `torchmetrics.*` and split off to its own package (https://github.com/PyTorchLightning/metrics) since v1.3 and will be removed in v1.5\n",
      "  \"`pytorch_lightning.metrics.*` module has been renamed to `torchmetrics.*` and split off to its own package\"\n"
     ]
    }
   ],
   "source": [
    "%load_ext autoreload\n",
    "%autoreload 2\n",
    "import torch\n",
    "import numpy as np\n",
    "from simclr_finetuner import SSLFineTuner\n",
    "from simclr_module import SimCLR\n",
    "from datasets.shapenet_parts.shapenet_parts import ShapeNetParts\n",
    "from util.visualization_utils import visualize_pointcloud\n",
    "from matplotlib import cm, colors\n",
    "from datasets.data_modules import PartSegmentationDataModule"
   ]
  },
  {
   "cell_type": "code",
   "execution_count": 3,
   "id": "47226ae4",
   "metadata": {},
   "outputs": [
    {
     "name": "stdout",
     "output_type": "stream",
     "text": [
      "/home/mert/Documents/projects/ml43d/3d-object-part-segmentation-with-simclr\n"
     ]
    }
   ],
   "source": [
    "cwd = os.getcwd()\n",
    "print(cwd)\n",
    "\n",
    "batch_size = 16\n",
    "\n",
    "dm = PartSegmentationDataModule(batch_size)\n",
    "seg_class_map = dm.seg_class_map\n",
    "\n",
    "backbone = SimCLR.load_from_checkpoint('simclr_best.ckpt')\n",
    "\n",
    "model = SSLFineTuner.load_from_checkpoint('simclr_finetune_best.ckpt', backbone=backbone, \n",
    "                                   seg_class_map=seg_class_map)"
   ]
  },
  {
   "cell_type": "code",
   "execution_count": 4,
   "id": "6c9ef78e",
   "metadata": {},
   "outputs": [
    {
     "name": "stdout",
     "output_type": "stream",
     "text": [
      "torch.Size([3, 2500])\n"
     ]
    },
    {
     "name": "stderr",
     "output_type": "stream",
     "text": [
      "/home/mert/venvs/ml43d/lib/python3.7/site-packages/traittypes/traittypes.py:101: UserWarning: Given trait value dtype \"int64\" does not match required type \"uint32\". A coerced copy has been created.\n",
      "  np.dtype(self.dtype).name))\n"
     ]
    },
    {
     "data": {
      "application/vnd.jupyter.widget-view+json": {
       "model_id": "99b46fdd4b9347f3bf04de9402179058",
       "version_major": 2,
       "version_minor": 0
      },
      "text/plain": [
       "Output()"
      ]
     },
     "metadata": {},
     "output_type": "display_data"
    }
   ],
   "source": [
    "test_dataset = ShapeNetParts('test', transforms=None)\n",
    "\n",
    "sample, gt_seg, gt_cls = test_dataset[12]\n",
    "print(sample.shape)\n",
    "\n",
    "shape_points = sample.T\n",
    "\n",
    "point_labels = (gt_seg - min(gt_seg)) / (max(gt_seg) - min(gt_seg))\n",
    "point_colors = cm.get_cmap('hsv')(point_labels)[:, :3]\n",
    "point_colors = np.sum((point_colors * 255).astype(int) * [255*255, 255, 1], axis=1)\n",
    "visualize_pointcloud(shape_points.numpy(), colors=point_colors, point_size=0.025, flip_axes=True)\n"
   ]
  },
  {
   "cell_type": "code",
   "execution_count": 11,
   "id": "6a73d790",
   "metadata": {},
   "outputs": [
    {
     "name": "stdout",
     "output_type": "stream",
     "text": [
      "<class 'augmentations.augmentations.GaussianNoise'>\n",
      "torch.Size([3, 2500])\n",
      "torch.Size([2500])\n"
     ]
    },
    {
     "data": {
      "application/vnd.jupyter.widget-view+json": {
       "model_id": "957c1e52724d46dda9498a4359d411f9",
       "version_major": 2,
       "version_minor": 0
      },
      "text/plain": [
       "Output()"
      ]
     },
     "metadata": {},
     "output_type": "display_data"
    },
    {
     "name": "stdout",
     "output_type": "stream",
     "text": [
      "<class 'augmentations.augmentations.Rescale'>\n",
      "torch.Size([3, 2500])\n",
      "torch.Size([2500])\n"
     ]
    },
    {
     "data": {
      "application/vnd.jupyter.widget-view+json": {
       "model_id": "290fca8eb30d47d59b165b28bf679308",
       "version_major": 2,
       "version_minor": 0
      },
      "text/plain": [
       "Output()"
      ]
     },
     "metadata": {},
     "output_type": "display_data"
    },
    {
     "name": "stdout",
     "output_type": "stream",
     "text": [
      "<class 'augmentations.augmentations.Flip'>\n",
      "torch.Size([3, 2500])\n",
      "torch.Size([2500])\n"
     ]
    },
    {
     "data": {
      "application/vnd.jupyter.widget-view+json": {
       "model_id": "e8086d1dc8de4befb7077d0394624c99",
       "version_major": 2,
       "version_minor": 0
      },
      "text/plain": [
       "Output()"
      ]
     },
     "metadata": {},
     "output_type": "display_data"
    },
    {
     "name": "stdout",
     "output_type": "stream",
     "text": [
      "<class 'augmentations.augmentations.RandomDrop'>\n",
      "torch.Size([3, 2500])\n",
      "torch.Size([2500])\n"
     ]
    },
    {
     "data": {
      "application/vnd.jupyter.widget-view+json": {
       "model_id": "dfde141ec5384d008c58e3e9d9f87dd1",
       "version_major": 2,
       "version_minor": 0
      },
      "text/plain": [
       "Output()"
      ]
     },
     "metadata": {},
     "output_type": "display_data"
    },
    {
     "name": "stdout",
     "output_type": "stream",
     "text": [
      "<class 'augmentations.augmentations.Rotation'>\n",
      "torch.Size([3, 2500])\n",
      "torch.Size([2500])\n"
     ]
    },
    {
     "data": {
      "application/vnd.jupyter.widget-view+json": {
       "model_id": "cb7eea631de04f00a5bb95c67599fc25",
       "version_major": 2,
       "version_minor": 0
      },
      "text/plain": [
       "Output()"
      ]
     },
     "metadata": {},
     "output_type": "display_data"
    },
    {
     "name": "stdout",
     "output_type": "stream",
     "text": [
      "<class 'augmentations.augmentations.RandomCuboid'>\n",
      "torch.Size([3, 2500])\n",
      "torch.Size([2500])\n"
     ]
    },
    {
     "data": {
      "application/vnd.jupyter.widget-view+json": {
       "model_id": "9875fb8ea0a24d78a65b6e30818482ce",
       "version_major": 2,
       "version_minor": 0
      },
      "text/plain": [
       "Output()"
      ]
     },
     "metadata": {},
     "output_type": "display_data"
    }
   ],
   "source": [
    "from transforms import SimCLREvalDataTransform\n",
    "from augmentations.augmentations import Rescale, Flip, GaussianNoise, RandomDrop,RandomCuboid, Rotation\n",
    "\n",
    "transformations = [\n",
    "    #None,\n",
    "     GaussianNoise,\n",
    "     Rescale,\n",
    "     Flip,\n",
    "     RandomDrop,\n",
    "     Rotation,\n",
    "    RandomCuboid\n",
    "]\n",
    "\n",
    "for transform in transformations:\n",
    "    print(str(transform))\n",
    "    if transform:  \n",
    "        tranformation_compositions = SimCLREvalDataTransform([transform(p=1)])\n",
    "    else:\n",
    "        tranformation_compositions = None\n",
    "        \n",
    "    model.eval()\n",
    "    model.freeze()\n",
    "\n",
    "    test_dataset = ShapeNetParts('test', transforms=tranformation_compositions)\n",
    "    (sample,_,_), gt_seg, gt_cls = test_dataset[12]\n",
    "    \n",
    "    print(sample.shape)\n",
    "\n",
    "    gt_cls_tensor = torch.tensor([gt_cls])\n",
    "\n",
    "    with torch.no_grad():\n",
    "        prediction = model.inference_step(sample.unsqueeze(0), gt_cls_tensor)\n",
    "    print(prediction.shape)\n",
    "    shape_points = sample.T\n",
    "\n",
    "    point_labels = (prediction - min(prediction)) / (max(prediction) - min(prediction))\n",
    "    point_colors = cm.get_cmap('hsv')(point_labels)[:, :3]\n",
    "    point_colors = np.sum((point_colors * 255).astype(int) * [255*255, 255, 1], axis=1)\n",
    "    visualize_pointcloud(shape_points.numpy(), colors=point_colors, point_size=0.025, flip_axes=True)"
   ]
  },
  {
   "cell_type": "code",
   "execution_count": 6,
   "id": "c8feca44",
   "metadata": {},
   "outputs": [],
   "source": [
    "##NO AUGMENTATION DATASET SINGLE INFERENCE"
   ]
  },
  {
   "cell_type": "code",
   "execution_count": 10,
   "id": "2ea6eb63",
   "metadata": {},
   "outputs": [
    {
     "name": "stdout",
     "output_type": "stream",
     "text": [
      "torch.Size([3, 2500])\n",
      "torch.Size([2500])\n"
     ]
    },
    {
     "name": "stderr",
     "output_type": "stream",
     "text": [
      "/home/mert/venvs/ml43d/lib/python3.7/site-packages/traittypes/traittypes.py:101: UserWarning: Given trait value dtype \"int64\" does not match required type \"uint32\". A coerced copy has been created.\n",
      "  np.dtype(self.dtype).name))\n"
     ]
    },
    {
     "data": {
      "application/vnd.jupyter.widget-view+json": {
       "model_id": "30f8273421904e9d8d08a9316f199944",
       "version_major": 2,
       "version_minor": 0
      },
      "text/plain": [
       "Output()"
      ]
     },
     "metadata": {},
     "output_type": "display_data"
    }
   ],
   "source": [
    "test_dataset = ShapeNetParts('test', transforms=None)\n",
    "      \n",
    "model.eval()\n",
    "model.freeze()\n",
    "\n",
    "sample, gt_seg, gt_cls = test_dataset[1400]\n",
    "    \n",
    "print(sample.shape)\n",
    "\n",
    "gt_cls_tensor = torch.tensor([gt_cls])\n",
    "\n",
    "with torch.no_grad():\n",
    "    prediction = model.inference_step(sample.unsqueeze(0), gt_cls_tensor)\n",
    "print(prediction.shape)\n",
    "shape_points = sample.T\n",
    "\n",
    "point_labels = (prediction - min(prediction)) / (max(prediction) - min(prediction))\n",
    "point_colors = cm.get_cmap('hsv')(point_labels)[:, :3]\n",
    "point_colors = np.sum((point_colors * 255).astype(int) * [255*255, 255, 1], axis=1)\n",
    "visualize_pointcloud(shape_points.numpy(), colors=point_colors, point_size=0.025, flip_axes=True)"
   ]
  },
  {
   "cell_type": "code",
   "execution_count": 6,
   "id": "732ceedb",
   "metadata": {},
   "outputs": [
    {
     "data": {
      "application/vnd.jupyter.widget-view+json": {
       "model_id": "bd1aeed00b3f48078349571af2495df6",
       "version_major": 2,
       "version_minor": 0
      },
      "text/plain": [
       "Output()"
      ]
     },
     "metadata": {},
     "output_type": "display_data"
    }
   ],
   "source": [
    "#shape_points = sample.T\n",
    "\n",
    "#point_labels = (prediction - min(prediction)) / (max(prediction) - min(prediction))\n",
    "#point_colors = cm.get_cmap('hsv')(point_labels)[:, :3]\n",
    "#point_colors = np.sum((point_colors * 255).astype(int) * [255*255, 255, 1], axis=1)\n",
    "#visualize_pointcloud(shape_points.numpy(), colors=point_colors, point_size=0.025, flip_axes=True)"
   ]
  },
  {
   "cell_type": "code",
   "execution_count": null,
   "id": "803a7f64",
   "metadata": {},
   "outputs": [],
   "source": []
  }
 ],
 "metadata": {
  "kernelspec": {
   "display_name": "Python 3",
   "language": "python",
   "name": "python3"
  },
  "language_info": {
   "codemirror_mode": {
    "name": "ipython",
    "version": 3
   },
   "file_extension": ".py",
   "mimetype": "text/x-python",
   "name": "python",
   "nbconvert_exporter": "python",
   "pygments_lexer": "ipython3",
   "version": "3.7.10"
  }
 },
 "nbformat": 4,
 "nbformat_minor": 5
}
