{
 "cells": [
  {
   "cell_type": "code",
   "execution_count": 1,
   "metadata": {},
   "outputs": [],
   "source": [
    "import os\n",
    "import os.path\n",
    "os.chdir('..')"
   ]
  },
  {
   "cell_type": "code",
   "execution_count": 2,
   "metadata": {
    "scrolled": false
   },
   "outputs": [
    {
     "name": "stderr",
     "output_type": "stream",
     "text": [
      "/home/shepherd/anaconda3/lib/python3.7/site-packages/pl_bolts/utils/warnings.py:32: UserWarning: You want to use `wandb` which is not installed yet, install it with `pip install wandb`.\n",
      "  f' install it with `pip install {pypi_name}`.' + extra_text\n",
      "/home/shepherd/anaconda3/lib/python3.7/site-packages/pl_bolts/utils/warnings.py:32: UserWarning: You want to use `gym` which is not installed yet, install it with `pip install gym`.\n",
      "  f' install it with `pip install {pypi_name}`.' + extra_text\n"
     ]
    }
   ],
   "source": [
    "%load_ext autoreload\n",
    "%autoreload 2\n",
    "import torch\n",
    "import numpy as np\n",
    "from matplotlib import cm, colors\n",
    "import pytorch_lightning as pl\n",
    "\n",
    "from simclr_finetuner import SSLFineTuner\n",
    "from simclr_module import SimCLR\n",
    "from pointnet_module import SupervisedPointNet\n",
    "from datasets.shapenet_parts.shapenet_parts import ShapeNetParts\n",
    "from datasets.data_modules import PartSegmentationDataModule\n",
    "\n",
    "from transforms import FineTuningTestDataTransform\n",
    "from augmentations.augmentations import Rotation, Flip, Rescale, GaussianNoise"
   ]
  },
  {
   "cell_type": "code",
   "execution_count": null,
   "metadata": {},
   "outputs": [],
   "source": [
    "batch_size = 4\n",
    "#transforms = [Rotation(0.5),Flip(1),Rescale(),GaussianNoise(0.7)]\n",
    "transforms = [Rescale(0.5)]\n",
    "\n",
    "backbone_ckpt = 'checkpoints/simclr_best_21071416584428.ckpt'\n",
    "ssl_finetuner_ckpt = 'checkpoints/fine_tuning_best_21071514122946.ckpt'\n",
    "\n",
    "backbone = SimCLR.load_from_checkpoint(backbone_ckpt)\n",
    "\n",
    "for transform in transforms:\n",
    "    current_transform = FineTuningTestDataTransform([transform])\n",
    "    dm = PartSegmentationDataModule(batch_size,test_transforms=current_transform,fine_tuning=True)\n",
    "    seg_class_map = dm.seg_class_map\n",
    "    test_dataloader = dm.test_dataloader()\n",
    "    model = SSLFineTuner.load_from_checkpoint(ssl_finetuner_ckpt, backbone=backbone, \n",
    "                                   seg_class_map=seg_class_map)    \n",
    "    \n",
    "    trainer = pl.Trainer(\n",
    "        gpus=1,\n",
    "        num_nodes=1,\n",
    "        precision=16,\n",
    "        max_epochs=1,\n",
    "        distributed_backend=None,\n",
    "        sync_batchnorm=False,\n",
    "    )\n",
    "    results = trainer.test(model = model, test_dataloaders = test_dataloader)\n",
    "    print('Results for transform: {} \\n{}'.format(str(transform),results))"
   ]
  },
  {
   "cell_type": "code",
   "execution_count": 3,
   "metadata": {},
   "outputs": [
    {
     "name": "stderr",
     "output_type": "stream",
     "text": [
      "GPU available: True, used: True\n",
      "TPU available: False, using: 0 TPU cores\n",
      "Using native 16bit precision.\n",
      "LOCAL_RANK: 0 - CUDA_VISIBLE_DEVICES: [0]\n"
     ]
    },
    {
     "name": "stdout",
     "output_type": "stream",
     "text": [
      "Testing: 100%|██████████| 719/719 [02:27<00:00,  4.86it/s]\n",
      "--------------------------------------------------------------------------------\n",
      "DATALOADER:0 TEST RESULTS\n",
      "{'eval mIoU of Airplane': 0.7025840282440186,\n",
      " 'eval mIoU of Bag': 0.5056630373001099,\n",
      " 'eval mIoU of Cap': 0.5080223083496094,\n",
      " 'eval mIoU of Car': 0.42773231863975525,\n",
      " 'eval mIoU of Chair': 0.8219462037086487,\n",
      " 'eval mIoU of Earphone': 0.47785118222236633,\n",
      " 'eval mIoU of Guitar': 0.8449558019638062,\n",
      " 'eval mIoU of Knife': 0.5751577019691467,\n",
      " 'eval mIoU of Lamp': 0.5795390009880066,\n",
      " 'eval mIoU of Laptop': 0.3886492848396301,\n",
      " 'eval mIoU of Motorbike': 0.2593928575515747,\n",
      " 'eval mIoU of Mug': 0.6609437465667725,\n",
      " 'eval mIoU of Pistol': 0.5860928297042847,\n",
      " 'eval mIoU of Rocket': 0.40793415904045105,\n",
      " 'eval mIoU of Skateboard': 0.4997321665287018,\n",
      " 'eval mIoU of Table': 0.7234246730804443,\n",
      " 'test_accuracy': 0.840644121170044,\n",
      " 'test_class_avg_accuracy': 0.6011771559715271,\n",
      " 'test_class_avg_iou': 0.5606013536453247,\n",
      " 'test_instance_avg_iou': 0.6894645690917969}\n",
      "--------------------------------------------------------------------------------\n",
      "Results for transform: <augmentations.augmentations.Flip object at 0x7f8e4c93a5d0> \n",
      "[{'test_accuracy': 0.840644121170044, 'test_class_avg_accuracy': 0.6011771559715271, 'eval mIoU of Airplane': 0.7025840282440186, 'eval mIoU of Bag': 0.5056630373001099, 'eval mIoU of Cap': 0.5080223083496094, 'eval mIoU of Car': 0.42773231863975525, 'eval mIoU of Chair': 0.8219462037086487, 'eval mIoU of Earphone': 0.47785118222236633, 'eval mIoU of Guitar': 0.8449558019638062, 'eval mIoU of Knife': 0.5751577019691467, 'eval mIoU of Lamp': 0.5795390009880066, 'eval mIoU of Laptop': 0.3886492848396301, 'eval mIoU of Motorbike': 0.2593928575515747, 'eval mIoU of Mug': 0.6609437465667725, 'eval mIoU of Pistol': 0.5860928297042847, 'eval mIoU of Rocket': 0.40793415904045105, 'eval mIoU of Skateboard': 0.4997321665287018, 'eval mIoU of Table': 0.7234246730804443, 'test_class_avg_iou': 0.5606013536453247, 'test_instance_avg_iou': 0.6894645690917969}]\n"
     ]
    },
    {
     "name": "stderr",
     "output_type": "stream",
     "text": [
      "GPU available: True, used: True\n",
      "TPU available: False, using: 0 TPU cores\n",
      "Using native 16bit precision.\n",
      "LOCAL_RANK: 0 - CUDA_VISIBLE_DEVICES: [0]\n"
     ]
    },
    {
     "name": "stdout",
     "output_type": "stream",
     "text": [
      "Testing: 100%|██████████| 719/719 [03:23<00:00,  3.54it/s]\n",
      "--------------------------------------------------------------------------------\n",
      "DATALOADER:0 TEST RESULTS\n",
      "{'eval mIoU of Airplane': 0.7649351954460144,\n",
      " 'eval mIoU of Bag': 0.5866702795028687,\n",
      " 'eval mIoU of Cap': 0.6495068669319153,\n",
      " 'eval mIoU of Car': 0.6352315545082092,\n",
      " 'eval mIoU of Chair': 0.8573871850967407,\n",
      " 'eval mIoU of Earphone': 0.5885202884674072,\n",
      " 'eval mIoU of Guitar': 0.8658721446990967,\n",
      " 'eval mIoU of Knife': 0.8136282563209534,\n",
      " 'eval mIoU of Lamp': 0.7450048327445984,\n",
      " 'eval mIoU of Laptop': 0.9432350993156433,\n",
      " 'eval mIoU of Motorbike': 0.4587348997592926,\n",
      " 'eval mIoU of Mug': 0.8508864641189575,\n",
      " 'eval mIoU of Pistol': 0.7154349684715271,\n",
      " 'eval mIoU of Rocket': 0.4333653748035431,\n",
      " 'eval mIoU of Skateboard': 0.6953000426292419,\n",
      " 'eval mIoU of Table': 0.7912290096282959,\n",
      " 'test_accuracy': 0.9101462960243225,\n",
      " 'test_class_avg_accuracy': 0.7615200281143188,\n",
      " 'test_class_avg_iou': 0.7121838927268982,\n",
      " 'test_instance_avg_iou': 0.7889549136161804}\n",
      "--------------------------------------------------------------------------------\n",
      "Results for transform: <augmentations.augmentations.Rescale object at 0x7f8e4c93a650> \n",
      "[{'test_accuracy': 0.9101462960243225, 'test_class_avg_accuracy': 0.7615200281143188, 'eval mIoU of Airplane': 0.7649351954460144, 'eval mIoU of Bag': 0.5866702795028687, 'eval mIoU of Cap': 0.6495068669319153, 'eval mIoU of Car': 0.6352315545082092, 'eval mIoU of Chair': 0.8573871850967407, 'eval mIoU of Earphone': 0.5885202884674072, 'eval mIoU of Guitar': 0.8658721446990967, 'eval mIoU of Knife': 0.8136282563209534, 'eval mIoU of Lamp': 0.7450048327445984, 'eval mIoU of Laptop': 0.9432350993156433, 'eval mIoU of Motorbike': 0.4587348997592926, 'eval mIoU of Mug': 0.8508864641189575, 'eval mIoU of Pistol': 0.7154349684715271, 'eval mIoU of Rocket': 0.4333653748035431, 'eval mIoU of Skateboard': 0.6953000426292419, 'eval mIoU of Table': 0.7912290096282959, 'test_class_avg_iou': 0.7121838927268982, 'test_instance_avg_iou': 0.7889549136161804}]\n"
     ]
    },
    {
     "name": "stderr",
     "output_type": "stream",
     "text": [
      "GPU available: True, used: True\n",
      "TPU available: False, using: 0 TPU cores\n",
      "Using native 16bit precision.\n",
      "LOCAL_RANK: 0 - CUDA_VISIBLE_DEVICES: [0]\n"
     ]
    },
    {
     "name": "stdout",
     "output_type": "stream",
     "text": [
      "Testing: 100%|██████████| 719/719 [03:38<00:00,  3.29it/s]\n",
      "--------------------------------------------------------------------------------\n",
      "DATALOADER:0 TEST RESULTS\n",
      "{'eval mIoU of Airplane': 0.7455281019210815,\n",
      " 'eval mIoU of Bag': 0.5810840725898743,\n",
      " 'eval mIoU of Cap': 0.6356973052024841,\n",
      " 'eval mIoU of Car': 0.6212706565856934,\n",
      " 'eval mIoU of Chair': 0.8529841303825378,\n",
      " 'eval mIoU of Earphone': 0.5838450789451599,\n",
      " 'eval mIoU of Guitar': 0.8588099479675293,\n",
      " 'eval mIoU of Knife': 0.7992196679115295,\n",
      " 'eval mIoU of Lamp': 0.74406898021698,\n",
      " 'eval mIoU of Laptop': 0.939895510673523,\n",
      " 'eval mIoU of Motorbike': 0.4424215257167816,\n",
      " 'eval mIoU of Mug': 0.8483887314796448,\n",
      " 'eval mIoU of Pistol': 0.708850622177124,\n",
      " 'eval mIoU of Rocket': 0.4300008714199066,\n",
      " 'eval mIoU of Skateboard': 0.6753106117248535,\n",
      " 'eval mIoU of Table': 0.7887049913406372,\n",
      " 'test_accuracy': 0.9071887135505676,\n",
      " 'test_class_avg_accuracy': 0.7510631084442139,\n",
      " 'test_class_avg_iou': 0.7035050392150879,\n",
      " 'test_instance_avg_iou': 0.7823242545127869}\n",
      "--------------------------------------------------------------------------------\n",
      "Results for transform: <augmentations.augmentations.GaussianNoise object at 0x7f8e4c93a690> \n",
      "[{'test_accuracy': 0.9071887135505676, 'test_class_avg_accuracy': 0.7510631084442139, 'eval mIoU of Airplane': 0.7455281019210815, 'eval mIoU of Bag': 0.5810840725898743, 'eval mIoU of Cap': 0.6356973052024841, 'eval mIoU of Car': 0.6212706565856934, 'eval mIoU of Chair': 0.8529841303825378, 'eval mIoU of Earphone': 0.5838450789451599, 'eval mIoU of Guitar': 0.8588099479675293, 'eval mIoU of Knife': 0.7992196679115295, 'eval mIoU of Lamp': 0.74406898021698, 'eval mIoU of Laptop': 0.939895510673523, 'eval mIoU of Motorbike': 0.4424215257167816, 'eval mIoU of Mug': 0.8483887314796448, 'eval mIoU of Pistol': 0.708850622177124, 'eval mIoU of Rocket': 0.4300008714199066, 'eval mIoU of Skateboard': 0.6753106117248535, 'eval mIoU of Table': 0.7887049913406372, 'test_class_avg_iou': 0.7035050392150879, 'test_instance_avg_iou': 0.7823242545127869}]\n"
     ]
    }
   ],
   "source": [
    "# For supervised\n",
    "batch_size = 4\n",
    "#transforms = [Rotation(0.5),Flip(1),Rescale(0.5),GaussianNoise(0.7)]\n",
    "transforms = [Flip(1),Rescale(0.5),GaussianNoise(0.7)]\n",
    "\n",
    "#supervised_no_aug_ckpt = 'checkpoints/supervised_no_aug_best_21071320395666.ckpt'\n",
    "supervised_ckpt = 'checkpoints/supervised_aug_best_21071615280008.ckpt'\n",
    "\n",
    "for transform in transforms:\n",
    "    current_transform = FineTuningTestDataTransform([transform])\n",
    "    dm = PartSegmentationDataModule(batch_size,test_transforms=current_transform,num_workers=8,fine_tuning=True)\n",
    "    seg_class_map = dm.seg_class_map\n",
    "    test_dataloader = dm.test_dataloader()    \n",
    "    model = SupervisedPointNet.load_from_checkpoint(supervised_ckpt,seg_class_map=seg_class_map)\n",
    "    \n",
    "    trainer = pl.Trainer(\n",
    "        gpus=1,\n",
    "        num_nodes=1,\n",
    "        precision=16,\n",
    "        max_epochs=1,\n",
    "        distributed_backend=None,\n",
    "        sync_batchnorm=False,\n",
    "    )\n",
    "    results = trainer.test(model = model, test_dataloaders = test_dataloader)\n",
    "    print('Results for transform: {} \\n{}'.format(str(transform),results))"
   ]
  },
  {
   "cell_type": "code",
   "execution_count": null,
   "metadata": {},
   "outputs": [],
   "source": []
  }
 ],
 "metadata": {
  "kernelspec": {
   "display_name": "Python 3.7.4 64-bit ('base': conda)",
   "language": "python",
   "name": "python374jvsc74a57bd0526fdff7b650bbc232b2b5da034e6c2aa52b9ebe53e736c16abc2aa88bdfa19d"
  },
  "language_info": {
   "codemirror_mode": {
    "name": "ipython",
    "version": 3
   },
   "file_extension": ".py",
   "mimetype": "text/x-python",
   "name": "python",
   "nbconvert_exporter": "python",
   "pygments_lexer": "ipython3",
   "version": "3.7.4"
  }
 },
 "nbformat": 4,
 "nbformat_minor": 2
}
