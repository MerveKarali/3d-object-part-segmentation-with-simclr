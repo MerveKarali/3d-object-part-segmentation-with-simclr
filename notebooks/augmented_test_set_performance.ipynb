{
 "cells": [
  {
   "cell_type": "code",
   "execution_count": 1,
   "metadata": {},
   "outputs": [],
   "source": [
    "import os\n",
    "import os.path\n",
    "os.chdir('..')"
   ]
  },
  {
   "cell_type": "code",
   "execution_count": 6,
   "metadata": {
    "scrolled": false
   },
   "outputs": [
    {
     "name": "stdout",
     "output_type": "stream",
     "text": [
      "The autoreload extension is already loaded. To reload it, use:\n",
      "  %reload_ext autoreload\n"
     ]
    }
   ],
   "source": [
    "%load_ext autoreload\n",
    "%autoreload 2\n",
    "import torch\n",
    "import numpy as np\n",
    "from matplotlib import cm, colors\n",
    "import pytorch_lightning as pl\n",
    "\n",
    "from simclr_finetuner import SSLFineTuner\n",
    "from simclr_module import SimCLR\n",
    "from pointnet_module import SupervisedPointNet\n",
    "from datasets.shapenet_parts.shapenet_parts import ShapeNetParts\n",
    "from datasets.data_modules import PartSegmentationDataModule\n",
    "\n",
    "from transforms import FineTuningTestDataTransform\n",
    "from augmentations.augmentations import Rotation, Flip, Rescale, GaussianNoise"
   ]
  },
  {
   "cell_type": "code",
   "execution_count": 8,
   "metadata": {},
   "outputs": [
    {
     "name": "stderr",
     "output_type": "stream",
     "text": [
      "GPU available: True, used: True\n",
      "TPU available: False, using: 0 TPU cores\n",
      "Using native 16bit precision.\n",
      "LOCAL_RANK: 0 - CUDA_VISIBLE_DEVICES: [0]\n"
     ]
    },
    {
     "name": "stdout",
     "output_type": "stream",
     "text": [
      "Testing: 100%|██████████| 719/719 [02:00<00:00,  5.96it/s]\n",
      "--------------------------------------------------------------------------------\n",
      "DATALOADER:0 TEST RESULTS\n",
      "{'test mIoU of Airplane': 0.8126567006111145,\n",
      " 'test mIoU of Bag': 0.7644801139831543,\n",
      " 'test mIoU of Cap': 0.768993616104126,\n",
      " 'test mIoU of Car': 0.7459132075309753,\n",
      " 'test mIoU of Chair': 0.892654299736023,\n",
      " 'test mIoU of Earphone': 0.666413426399231,\n",
      " 'test mIoU of Guitar': 0.9003296494483948,\n",
      " 'test mIoU of Knife': 0.8433716297149658,\n",
      " 'test mIoU of Lamp': 0.788693368434906,\n",
      " 'test mIoU of Laptop': 0.9481350183486938,\n",
      " 'test mIoU of Motorbike': 0.5886881351470947,\n",
      " 'test mIoU of Mug': 0.9115614891052246,\n",
      " 'test mIoU of Pistol': 0.7887442708015442,\n",
      " 'test mIoU of Rocket': 0.545494794845581,\n",
      " 'test mIoU of Skateboard': 0.7295714020729065,\n",
      " 'test mIoU of Table': 0.8141013979911804,\n",
      " 'test_accuracy': 0.9304516315460205,\n",
      " 'test_class_avg_accuracy': 0.8374872207641602,\n",
      " 'test_class_avg_iou': 0.7818626761436462,\n",
      " 'test_instance_avg_iou': 0.8300840854644775}\n",
      "--------------------------------------------------------------------------------\n",
      "Results for transform: <augmentations.augmentations.Rescale object at 0x7fe071316cd0> \n",
      "[{'test_accuracy': 0.9304516315460205, 'test_class_avg_accuracy': 0.8374872207641602, 'test mIoU of Airplane': 0.8126567006111145, 'test mIoU of Bag': 0.7644801139831543, 'test mIoU of Cap': 0.768993616104126, 'test mIoU of Car': 0.7459132075309753, 'test mIoU of Chair': 0.892654299736023, 'test mIoU of Earphone': 0.666413426399231, 'test mIoU of Guitar': 0.9003296494483948, 'test mIoU of Knife': 0.8433716297149658, 'test mIoU of Lamp': 0.788693368434906, 'test mIoU of Laptop': 0.9481350183486938, 'test mIoU of Motorbike': 0.5886881351470947, 'test mIoU of Mug': 0.9115614891052246, 'test mIoU of Pistol': 0.7887442708015442, 'test mIoU of Rocket': 0.545494794845581, 'test mIoU of Skateboard': 0.7295714020729065, 'test mIoU of Table': 0.8141013979911804, 'test_class_avg_iou': 0.7818626761436462, 'test_instance_avg_iou': 0.8300840854644775}]\n"
     ]
    }
   ],
   "source": [
    "batch_size = 4\n",
    "#transforms = [Rotation(0.5),Flip(1),Rescale(),GaussianNoise(0.7)]\n",
    "transforms = [Rescale(0.5)]\n",
    "\n",
    "backbone_ckpt = 'checkpoints/simclr_best_21071416584428.ckpt'\n",
    "ssl_finetuner_ckpt = 'checkpoints/fine_tuning_best_21071514122946.ckpt'\n",
    "\n",
    "backbone = SimCLR.load_from_checkpoint(backbone_ckpt)\n",
    "\n",
    "for transform in transforms:\n",
    "    current_transform = FineTuningTestDataTransform([transform])\n",
    "    dm = PartSegmentationDataModule(batch_size,test_transforms=current_transform,fine_tuning=True)\n",
    "    seg_class_map = dm.seg_class_map\n",
    "    test_dataloader = dm.test_dataloader()\n",
    "    model = SSLFineTuner.load_from_checkpoint(ssl_finetuner_ckpt, backbone=backbone, \n",
    "                                   seg_class_map=seg_class_map)    \n",
    "    \n",
    "    trainer = pl.Trainer(\n",
    "        gpus=1,\n",
    "        num_nodes=1,\n",
    "        precision=16,\n",
    "        max_epochs=1,\n",
    "        distributed_backend=None,\n",
    "        sync_batchnorm=False,\n",
    "    )\n",
    "    results = trainer.test(model = model, test_dataloaders = test_dataloader)\n",
    "    print('Results for transform: {} \\n{}'.format(str(transform),results))"
   ]
  },
  {
   "cell_type": "code",
   "execution_count": 12,
   "metadata": {},
   "outputs": [
    {
     "name": "stderr",
     "output_type": "stream",
     "text": [
      "GPU available: True, used: True\n",
      "TPU available: False, using: 0 TPU cores\n",
      "Using native 16bit precision.\n",
      "LOCAL_RANK: 0 - CUDA_VISIBLE_DEVICES: [0]\n"
     ]
    },
    {
     "name": "stdout",
     "output_type": "stream",
     "text": [
      "Testing: 100%|██████████| 719/719 [01:57<00:00,  6.13it/s]\n",
      "--------------------------------------------------------------------------------\n",
      "DATALOADER:0 TEST RESULTS\n",
      "{'eval mIoU of Airplane': 0.7789437174797058,\n",
      " 'eval mIoU of Bag': 0.7955501079559326,\n",
      " 'eval mIoU of Cap': 0.8566972017288208,\n",
      " 'eval mIoU of Car': 0.7318137288093567,\n",
      " 'eval mIoU of Chair': 0.8873791694641113,\n",
      " 'eval mIoU of Earphone': 0.7098955512046814,\n",
      " 'eval mIoU of Guitar': 0.8990153670310974,\n",
      " 'eval mIoU of Knife': 0.8331015706062317,\n",
      " 'eval mIoU of Lamp': 0.7836562395095825,\n",
      " 'eval mIoU of Laptop': 0.9409699440002441,\n",
      " 'eval mIoU of Motorbike': 0.6213475465774536,\n",
      " 'eval mIoU of Mug': 0.904929518699646,\n",
      " 'eval mIoU of Pistol': 0.7962162494659424,\n",
      " 'eval mIoU of Rocket': 0.5957265496253967,\n",
      " 'eval mIoU of Skateboard': 0.6944325566291809,\n",
      " 'eval mIoU of Table': 0.8075169920921326,\n",
      " 'test_accuracy': 0.926337480545044,\n",
      " 'test_class_avg_accuracy': 0.8361691832542419,\n",
      " 'test_class_avg_iou': 0.7898244857788086,\n",
      " 'test_instance_avg_iou': 0.822143018245697}\n",
      "--------------------------------------------------------------------------------\n",
      "Results for transform: <augmentations.augmentations.GaussianNoise object at 0x7fe0695ce690> \n",
      "[{'test_accuracy': 0.926337480545044, 'test_class_avg_accuracy': 0.8361691832542419, 'eval mIoU of Airplane': 0.7789437174797058, 'eval mIoU of Bag': 0.7955501079559326, 'eval mIoU of Cap': 0.8566972017288208, 'eval mIoU of Car': 0.7318137288093567, 'eval mIoU of Chair': 0.8873791694641113, 'eval mIoU of Earphone': 0.7098955512046814, 'eval mIoU of Guitar': 0.8990153670310974, 'eval mIoU of Knife': 0.8331015706062317, 'eval mIoU of Lamp': 0.7836562395095825, 'eval mIoU of Laptop': 0.9409699440002441, 'eval mIoU of Motorbike': 0.6213475465774536, 'eval mIoU of Mug': 0.904929518699646, 'eval mIoU of Pistol': 0.7962162494659424, 'eval mIoU of Rocket': 0.5957265496253967, 'eval mIoU of Skateboard': 0.6944325566291809, 'eval mIoU of Table': 0.8075169920921326, 'test_class_avg_iou': 0.7898244857788086, 'test_instance_avg_iou': 0.822143018245697}]\n"
     ]
    }
   ],
   "source": [
    "# For supervised\n",
    "batch_size = 4\n",
    "#transforms = [Rotation(0.5),Flip(1),Rescale(0.5),GaussianNoise(0.7)]\n",
    "transforms = [GaussianNoise(0.7)]\n",
    "\n",
    "supervised_no_aug_ckpt = 'checkpoints/supervised_no_aug_best_21071320395666.ckpt'\n",
    "\n",
    "\n",
    "for transform in transforms:\n",
    "    current_transform = FineTuningTestDataTransform([transform])\n",
    "    dm = PartSegmentationDataModule(batch_size,test_transforms=current_transform,fine_tuning=True)\n",
    "    seg_class_map = dm.seg_class_map\n",
    "    test_dataloader = dm.test_dataloader()    \n",
    "    model = SupervisedPointNet.load_from_checkpoint(supervised_no_aug_ckpt,seg_class_map=seg_class_map)\n",
    "    \n",
    "    trainer = pl.Trainer(\n",
    "        gpus=1,\n",
    "        num_nodes=1,\n",
    "        precision=16,\n",
    "        max_epochs=1,\n",
    "        distributed_backend=None,\n",
    "        sync_batchnorm=False,\n",
    "    )\n",
    "    results = trainer.test(model = model, test_dataloaders = test_dataloader)\n",
    "    print('Results for transform: {} \\n{}'.format(str(transform),results))"
   ]
  },
  {
   "cell_type": "code",
   "execution_count": null,
   "metadata": {},
   "outputs": [],
   "source": []
  }
 ],
 "metadata": {
  "kernelspec": {
   "display_name": "Python 3.7.4 64-bit ('base': conda)",
   "language": "python",
   "name": "python374jvsc74a57bd0526fdff7b650bbc232b2b5da034e6c2aa52b9ebe53e736c16abc2aa88bdfa19d"
  },
  "language_info": {
   "codemirror_mode": {
    "name": "ipython",
    "version": 3
   },
   "file_extension": ".py",
   "mimetype": "text/x-python",
   "name": "python",
   "nbconvert_exporter": "python",
   "pygments_lexer": "ipython3",
   "version": "3.7.4"
  }
 },
 "nbformat": 4,
 "nbformat_minor": 2
}
