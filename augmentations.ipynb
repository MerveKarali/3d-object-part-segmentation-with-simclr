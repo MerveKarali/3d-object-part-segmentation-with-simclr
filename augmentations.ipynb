{
 "cells": [
  {
   "cell_type": "markdown",
   "metadata": {},
   "source": [
    "# Augmentations"
   ]
  },
  {
   "cell_type": "code",
   "execution_count": 1,
   "metadata": {},
   "outputs": [],
   "source": [
    "%load_ext autoreload\n",
    "%autoreload 2\n",
    "from pathlib import Path\n",
    "import numpy as np\n",
    "import trimesh\n",
    "\n",
    "from util.visualization_utils import * "
   ]
  },
  {
   "cell_type": "markdown",
   "metadata": {},
   "source": [
    "1. Princeton Segmentation Benchmark"
   ]
  },
  {
   "cell_type": "code",
   "execution_count": 30,
   "metadata": {},
   "outputs": [
    {
     "name": "stderr",
     "output_type": "stream",
     "text": [
      "/home/umur/anaconda3/envs/dl/lib/python3.8/site-packages/traittypes/traittypes.py:97: UserWarning: Given trait value dtype \"float32\" does not match required type \"float32\". A coerced copy has been created.\n",
      "  warnings.warn(\n",
      "/home/umur/anaconda3/envs/dl/lib/python3.8/site-packages/traittypes/traittypes.py:97: UserWarning: Given trait value dtype \"uint32\" does not match required type \"uint32\". A coerced copy has been created.\n",
      "  warnings.warn(\n"
     ]
    },
    {
     "data": {
      "application/vnd.jupyter.widget-view+json": {
       "model_id": "6f782666d7e74c709ef53b8f9707fd3c",
       "version_major": 2,
       "version_minor": 0
      },
      "text/plain": [
       "Output()"
      ]
     },
     "metadata": {},
     "output_type": "display_data"
    }
   ],
   "source": [
    "# Load one sample and visualize\n",
    "sample = trimesh.load(\"./data/MeshsegBenchmark-1.0/data/off/1.off\")\n",
    "visualize_mesh(sample)"
   ]
  },
  {
   "cell_type": "code",
   "execution_count": 31,
   "metadata": {},
   "outputs": [
    {
     "data": {
      "application/vnd.jupyter.widget-view+json": {
       "model_id": "efd7fad155aa4a708a7a74a3ab41f46c",
       "version_major": 2,
       "version_minor": 0
      },
      "text/plain": [
       "Output()"
      ]
     },
     "metadata": {},
     "output_type": "display_data"
    }
   ],
   "source": [
    "# Sample points from the given mesh to create a pointcloud\n",
    "res = 20\n",
    "points, face_indices = trimesh.sample.sample_surface(sample,res**3)\n",
    "visualize_pointcloud(points)"
   ]
  },
  {
   "cell_type": "markdown",
   "metadata": {},
   "source": [
    "## Scale"
   ]
  },
  {
   "cell_type": "code",
   "execution_count": 4,
   "metadata": {},
   "outputs": [
    {
     "data": {
      "text/plain": [
       "[<matplotlib.lines.Line2D at 0x7f853976a700>]"
      ]
     },
     "execution_count": 4,
     "metadata": {},
     "output_type": "execute_result"
    },
    {
     "data": {
      "image/png": "[encoded data removed]",
      "text/plain": [
       "<Figure size 432x288 with 1 Axes>"
      ]
     },
     "metadata": {
      "needs_background": "light"
     },
     "output_type": "display_data"
    }
   ],
   "source": [
    "import matplotlib.pyplot as plt\n",
    "plt.plot(np.random.normal(0.7, 0.05, 1000))"
   ]
  },
  {
   "cell_type": "code",
   "execution_count": 5,
   "metadata": {},
   "outputs": [
    {
     "data": {
      "application/vnd.jupyter.widget-view+json": {
       "model_id": "5625adaf12774a12848dcdd83b11c16a",
       "version_major": 2,
       "version_minor": 0
      },
      "text/plain": [
       "Output()"
      ]
     },
     "metadata": {},
     "output_type": "display_data"
    }
   ],
   "source": [
    "def scale(points):\n",
    "    \"\"\"\n",
    "    Scales the object. The scale value is sampled from a normal distribution \n",
    "    with 0.7 mean and 0.05 variance\n",
    "\n",
    "    Parameters\n",
    "    ----------\n",
    "\n",
    "    points (ndarray): 3D object\n",
    "    \n",
    "    Returns\n",
    "    -------\n",
    "\n",
    "    out (ndarray) : Augmentated 3D object\n",
    "    \"\"\"\n",
    "    points_temp = points.copy()\n",
    "    scale = np.random.normal(0.7, 0.05, 1)\n",
    "    points_temp = points_temp*scale\n",
    "    return points_temp\n",
    "    \n",
    "visualize_pointcloud(scale(points))"
   ]
  },
  {
   "cell_type": "markdown",
   "metadata": {},
   "source": [
    "## Flip"
   ]
  },
  {
   "cell_type": "code",
   "execution_count": 6,
   "metadata": {},
   "outputs": [
    {
     "data": {
      "application/vnd.jupyter.widget-view+json": {
       "model_id": "2d514189b44843d5a7502c32caada790",
       "version_major": 2,
       "version_minor": 0
      },
      "text/plain": [
       "Output()"
      ]
     },
     "metadata": {},
     "output_type": "display_data"
    }
   ],
   "source": [
    "def flip(points):\n",
    "    \"\"\"\n",
    "    Flip the object over x or y axis.\n",
    "\n",
    "    Parameters\n",
    "    ----------\n",
    "\n",
    "    points (ndarray): 3D object\n",
    "    \n",
    "    Returns\n",
    "    -------\n",
    "\n",
    "    out (ndarray) : Augmentated 3D object\n",
    "    \"\"\"\n",
    "    points_temp = points.copy()\n",
    "    index = np.random.choice(2, 1)\n",
    "    points_temp[:,index] = -points_temp[:,index]\n",
    "    return points_temp\n",
    "    \n",
    "visualize_pointcloud(flip(points))"
   ]
  },
  {
   "cell_type": "markdown",
   "metadata": {},
   "source": [
    "## Gaussian Noise"
   ]
  },
  {
   "cell_type": "code",
   "execution_count": 32,
   "metadata": {},
   "outputs": [
    {
     "data": {
      "application/vnd.jupyter.widget-view+json": {
       "model_id": "e3e331721f9b43c099bbc203e623afa8",
       "version_major": 2,
       "version_minor": 0
      },
      "text/plain": [
       "Output()"
      ]
     },
     "metadata": {},
     "output_type": "display_data"
    }
   ],
   "source": [
    "def gaussian_white_noise(points):\n",
    "    \"\"\"\n",
    "    Additive Gaussian white noise with zero mean and 0.008 variance.\n",
    "\n",
    "    Parameters\n",
    "    ----------\n",
    "\n",
    "    points (ndarray): 3D object\n",
    "    \n",
    "    Returns\n",
    "    -------\n",
    "\n",
    "    out (ndarray) : Augmentated 3D object\n",
    "    \"\"\"\n",
    "    points_temp = points.copy()\n",
    "    GAUSS_NOISE_MU = 0\n",
    "    GAUSS_NOISE_SIGMA = 0.008\n",
    "    \n",
    "    noise = np.random.normal(GAUSS_NOISE_MU, GAUSS_NOISE_SIGMA, points.shape)\n",
    "    return points_temp + noise\n",
    "\n",
    "visualize_pointcloud(gaussian_white_noise(points))"
   ]
  },
  {
   "cell_type": "markdown",
   "metadata": {},
   "source": [
    "## Cutout"
   ]
  },
  {
   "cell_type": "code",
   "execution_count": 102,
   "metadata": {},
   "outputs": [
    {
     "name": "stdout",
     "output_type": "stream",
     "text": [
      "0.07234417377880069 0.3640460373801863 -0.35939570040782054\n",
      "(array([0.28636982]), array([0.35871399]))\n",
      "(7805, 3)\n",
      "0.02921594372309441 0.15440688907429123 -0.13775254815665286\n",
      "(array([0.10124137]), array([0.13045732]))\n",
      "(7560, 3)\n",
      "0.17948471071700256 0.8151793170499889 -0.9796677901200367\n",
      "(array([-0.16511526]), array([0.01436945]))\n",
      "(6549, 3)\n"
     ]
    },
    {
     "data": {
      "application/vnd.jupyter.widget-view+json": {
       "model_id": "23f40daf1d094829a26c3d5e37299601",
       "version_major": 2,
       "version_minor": 0
      },
      "text/plain": [
       "Output()"
      ]
     },
     "metadata": {},
     "output_type": "display_data"
    }
   ],
   "source": [
    "def cutout(points, cut_ratio=0.1):\n",
    "    \"\"\"\n",
    "    Cuts a portion of the object.\n",
    "\n",
    "    Parameters\n",
    "    ----------\n",
    "\n",
    "    points (ndarray): 3D object\n",
    "    \n",
    "    Returns\n",
    "    -------\n",
    "\n",
    "    out (ndarray) : Augmentated 3D object\n",
    "    \"\"\"\n",
    "    points_temp = points.copy()\n",
    "    \n",
    "    for axis in range(3):\n",
    "        max_val, min_val = np.max(points_temp.T[axis]), np.min(points_temp.T[axis])\n",
    "        cut_len = np.abs(max_val-min_val)*cut_ratio\n",
    "        start_pos = np.random.uniform(min_val,max_val-cut_len,1)\n",
    "        positions = (start_pos, start_pos + cut_len)\n",
    "        indices = np.where((points_temp.T[axis]>positions[0]) & (points_temp.T[axis]<positions[1]))\n",
    "        points_temp = np.delete(points_temp, indices, axis=0)\n",
    "        \n",
    "    # TODO: Resample to 8000\n",
    "    \n",
    "    return points_temp\n",
    "\n",
    "visualize_pointcloud(cutout(points))"
   ]
  },
  {
   "cell_type": "markdown",
   "metadata": {},
   "source": [
    "## Rotation"
   ]
  },
  {
   "cell_type": "code",
   "execution_count": 197,
   "metadata": {},
   "outputs": [
    {
     "data": {
      "application/vnd.jupyter.widget-view+json": {
       "model_id": "b96ccaaa74534b32a73b6169f4136dc6",
       "version_major": 2,
       "version_minor": 0
      },
      "text/plain": [
       "Output()"
      ]
     },
     "metadata": {},
     "output_type": "display_data"
    }
   ],
   "source": [
    "from scipy.linalg import expm, norm\n",
    "\n",
    "def M(axis, theta):\n",
    "    return expm(np.cross(np.eye(3), axis/norm(axis)*theta))\n",
    "\n",
    "def rotate(points):\n",
    "    points_temp = points.copy()\n",
    "    axis, theta = [4,4,1], np.random.uniform(0,10,1)\n",
    "    rotation_matrix = M(axis, theta)\n",
    "    return np.dot(rotation_matrix,points_temp.T).T\n",
    "\n",
    "visualize_pointcloud(rotate(points))"
   ]
  }
 ],
 "metadata": {
  "kernelspec": {
   "display_name": "Python dl",
   "language": "python",
   "name": "dl"
  },
  "language_info": {
   "codemirror_mode": {
    "name": "ipython",
    "version": 3
   },
   "file_extension": ".py",
   "mimetype": "text/x-python",
   "name": "python",
   "nbconvert_exporter": "python",
   "pygments_lexer": "ipython3",
   "version": "3.8.5"
  }
 },
 "nbformat": 4,
 "nbformat_minor": 2
}
