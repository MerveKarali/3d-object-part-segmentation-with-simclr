{
 "cells": [
  {
   "cell_type": "markdown",
   "metadata": {},
   "source": [
    "# Augmentations"
   ]
  },
  {
   "cell_type": "code",
   "execution_count": 75,
   "metadata": {},
   "outputs": [
    {
     "name": "stdout",
     "output_type": "stream",
     "text": [
      "The autoreload extension is already loaded. To reload it, use:\n",
      "  %reload_ext autoreload\n"
     ]
    }
   ],
   "source": [
    "%load_ext autoreload\n",
    "%autoreload 2\n",
    "from pathlib import Path\n",
    "import numpy as np\n",
    "import trimesh\n",
    "\n",
    "from util.visualization_utils import * "
   ]
  },
  {
   "cell_type": "markdown",
   "metadata": {},
   "source": [
    "1. Princeton Segmentation Benchmark"
   ]
  },
  {
   "cell_type": "code",
   "execution_count": 76,
   "metadata": {},
   "outputs": [
    {
     "data": {
      "application/vnd.jupyter.widget-view+json": {
       "model_id": "fd5e539c09da428eadb80fd26135cae5",
       "version_major": 2,
       "version_minor": 0
      },
      "text/plain": [
       "Output()"
      ]
     },
     "metadata": {},
     "output_type": "display_data"
    }
   ],
   "source": [
    "# Load one sample and visualize\n",
    "sample = trimesh.load(\"./data/MeshsegBenchmark-1.0/data/off/1.off\")\n",
    "visualize_mesh(sample)"
   ]
  },
  {
   "cell_type": "code",
   "execution_count": 77,
   "metadata": {},
   "outputs": [
    {
     "data": {
      "application/vnd.jupyter.widget-view+json": {
       "model_id": "3fae859e544b49f69d0eb74d950e5659",
       "version_major": 2,
       "version_minor": 0
      },
      "text/plain": [
       "Output()"
      ]
     },
     "metadata": {},
     "output_type": "display_data"
    }
   ],
   "source": [
    "# Sample points from the given mesh to create a pointcloud\n",
    "res = 20\n",
    "points, face_indices = trimesh.sample.sample_surface(sample,res**3)\n",
    "visualize_pointcloud(points)"
   ]
  },
  {
   "cell_type": "markdown",
   "metadata": {},
   "source": [
    "## Scale"
   ]
  },
  {
   "cell_type": "code",
   "execution_count": 119,
   "metadata": {},
   "outputs": [
    {
     "data": {
      "text/plain": [
       "[<matplotlib.lines.Line2D at 0x7f8073871e50>]"
      ]
     },
     "execution_count": 119,
     "metadata": {},
     "output_type": "execute_result"
    },
    {
     "data": {
      "image/png": "[encoded data removed]",
      "text/plain": [
       "<Figure size 432x288 with 1 Axes>"
      ]
     },
     "metadata": {
      "needs_background": "light"
     },
     "output_type": "display_data"
    }
   ],
   "source": [
    "import matplotlib.pyplot as plt\n",
    "plt.plot(np.random.normal(0.7, 0.05, 1000))"
   ]
  },
  {
   "cell_type": "code",
   "execution_count": 134,
   "metadata": {},
   "outputs": [
    {
     "data": {
      "application/vnd.jupyter.widget-view+json": {
       "model_id": "53a7d4066368461fa42554595e81e864",
       "version_major": 2,
       "version_minor": 0
      },
      "text/plain": [
       "Output()"
      ]
     },
     "metadata": {},
     "output_type": "display_data"
    }
   ],
   "source": [
    "def scale(points):\n",
    "    \"\"\"\n",
    "    Scales the object. The scale value is sampled from a normal distribution \n",
    "    with 0.7 mean and 0.05 variance\n",
    "\n",
    "    Parameters\n",
    "    ----------\n",
    "\n",
    "    points (ndarray): 3D object\n",
    "    \n",
    "    Returns\n",
    "    -------\n",
    "\n",
    "    out (ndarray) : Augmentated 3D object\n",
    "    \"\"\"\n",
    "    points_temp = points.copy()\n",
    "    scale = np.random.normal(0.7, 0.05, 1)\n",
    "    points_temp = points_temp*scale\n",
    "    print\n",
    "    return points_temp\n",
    "    \n",
    "visualize_pointcloud(scale(points))"
   ]
  },
  {
   "cell_type": "markdown",
   "metadata": {},
   "source": [
    "## Flip"
   ]
  },
  {
   "cell_type": "code",
   "execution_count": 72,
   "metadata": {},
   "outputs": [
    {
     "data": {
      "application/vnd.jupyter.widget-view+json": {
       "model_id": "4e7ecd6708af4866a646e8c6f570f9a6",
       "version_major": 2,
       "version_minor": 0
      },
      "text/plain": [
       "Output()"
      ]
     },
     "metadata": {},
     "output_type": "display_data"
    }
   ],
   "source": [
    "def flip(points):\n",
    "    \"\"\"\n",
    "    Flip the object over x or y axis.\n",
    "\n",
    "    Parameters\n",
    "    ----------\n",
    "\n",
    "    points (ndarray): 3D object\n",
    "    \n",
    "    Returns\n",
    "    -------\n",
    "\n",
    "    out (ndarray) : Augmentated 3D object\n",
    "    \"\"\"\n",
    "    points_temp = points.copy()\n",
    "    index = np.random.choice(2, 1)\n",
    "    points_temp[:,index] = -points_temp[:,index]\n",
    "    return points_temp\n",
    "    \n",
    "visualize_pointcloud(flip(points))"
   ]
  },
  {
   "cell_type": "markdown",
   "metadata": {},
   "source": [
    "## Gaussian Noise"
   ]
  },
  {
   "cell_type": "code",
   "execution_count": 67,
   "metadata": {},
   "outputs": [
    {
     "data": {
      "application/vnd.jupyter.widget-view+json": {
       "model_id": "937bb841869747539105edccf5fba58e",
       "version_major": 2,
       "version_minor": 0
      },
      "text/plain": [
       "Output()"
      ]
     },
     "metadata": {},
     "output_type": "display_data"
    }
   ],
   "source": [
    "def gaussian_white_noise(points):\n",
    "    \"\"\"\n",
    "    Additive Gaussian white noise with zero mean and 0.008 variance.\n",
    "\n",
    "    Parameters\n",
    "    ----------\n",
    "\n",
    "    points (ndarray): 3D object\n",
    "    \n",
    "    Returns\n",
    "    -------\n",
    "\n",
    "    out (ndarray) : Augmentated 3D object\n",
    "    \"\"\"\n",
    "    points_temp = points.copy()\n",
    "    GAUSS_NOISE_MU = 0\n",
    "    GAUSS_NOISE_SIGMA = 0.008\n",
    "    \n",
    "    noise = np.random.normal(GAUSS_NOISE_MU, GAUSS_NOISE_SIGMA, points.shape)\n",
    "    return points_temp + noise\n",
    "\n",
    "visualize_pointcloud(gaussian_white_noise(points))"
   ]
  }
 ],
 "metadata": {
  "kernelspec": {
   "display_name": "Python dl",
   "language": "python",
   "name": "dl"
  },
  "language_info": {
   "codemirror_mode": {
    "name": "ipython",
    "version": 3
   },
   "file_extension": ".py",
   "mimetype": "text/x-python",
   "name": "python",
   "nbconvert_exporter": "python",
   "pygments_lexer": "ipython3",
   "version": "3.8.5"
  }
 },
 "nbformat": 4,
 "nbformat_minor": 2
}
